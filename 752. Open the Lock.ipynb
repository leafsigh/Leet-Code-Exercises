{
 "cells": [
  {
   "cell_type": "markdown",
   "metadata": {},
   "source": [
    "You have a lock in front of you with 4 circular wheels. Each wheel has 10 slots: '0', '1', '2', '3', '4', '5', '6', '7', '8', '9'. The wheels can rotate freely and wrap around: for example we can turn '9' to be '0', or '0' to be '9'. Each move consists of turning one wheel one slot.\n",
    "\n",
    "The lock initially starts at '0000', a string representing the state of the 4 wheels.\n",
    "\n",
    "You are given a list of deadends dead ends, meaning if the lock displays any of these codes, the wheels of the lock will stop turning and you will be unable to open it.\n",
    "\n",
    "Given a target representing the value of the wheels that will unlock the lock, return the minimum total number of turns required to open the lock, or -1 if it is impossible.\n",
    "\n",
    "### Example 1:\n",
    "Input: deadends = [\"0201\",\"0101\",\"0102\",\"1212\",\"2002\"], target = \"0202\"\n",
    "\n",
    "Output: 6\n",
    "\n",
    "Explanation:\n",
    "A sequence of valid moves would be \"0000\" -> \"1000\" -> \"1100\" -> \"1200\" -> \"1201\" -> \"1202\" -> \"0202\".\n",
    "\n",
    "Note that a sequence like \"0000\" -> \"0001\" -> \"0002\" -> \"0102\" -> \"0202\" would be invalid,\n",
    "\n",
    "because the wheels of the lock become stuck after the display becomes the dead end \"0102\".\n",
    "\n",
    "### Example 2:\n",
    "Input: deadends = [\"8888\"], target = \"0009\"\n",
    "\n",
    "Output: 1\n",
    "\n",
    "Explanation:\n",
    "We can turn the last wheel in reverse to move from \"0000\" -> \"0009\".\n",
    "\n",
    "### Example 3:\n",
    "Input: deadends = [\"8887\",\"8889\",\"8878\",\"8898\",\"8788\",\"8988\",\"7888\",\"9888\"], target = \"8888\"\n",
    "\n",
    "Output: -1\n",
    "\n",
    "Explanation:\n",
    "We can't reach the target without getting stuck.\n",
    "\n",
    "### Example 4:\n",
    "Input: deadends = [\"0000\"], target = \"8888\"\n",
    "\n",
    "Output: -1\n",
    "\n",
    "### Note:\n",
    "The length of deadends will be in the range [1, 500].\n",
    "\n",
    "target will not be in the list deadends.\n",
    "\n",
    "Every string in deadends and the string target will be a string of 4 digits from the 10,000 possibilities '0000' to '9999'."
   ]
  },
  {
   "cell_type": "code",
   "execution_count": 21,
   "metadata": {
    "collapsed": false
   },
   "outputs": [],
   "source": [
    "def OpenLock(deadends,target):\n",
    "    num_next = {str(i):[str((i+1)%10),str((i-1)%10)] for i in range(10)}\n",
    "    dead = set(deadend)\n",
    "    q = ['0000']\n",
    "    step = 0\n",
    "    while q:\n",
    "        new =[]\n",
    "        step += 1\n",
    "        for i in set(q):\n",
    "            for a,b in enumerate(i):\n",
    "                current = (i[:a]+num_next[b][0]+i[a+1:],i[:a]+num_next[b][1]+i[a+1:])\n",
    "                for j in current:\n",
    "                    if j not in dead:\n",
    "                        if j==target:\n",
    "                            return step\n",
    "                        new.append(j)\n",
    "                        dead.add(j)\n",
    "        q=new\n",
    "    return -1"
   ]
  },
  {
   "cell_type": "code",
   "execution_count": null,
   "metadata": {
    "collapsed": true
   },
   "outputs": [],
   "source": [
    "# The Solution:\n",
    "def openLock(deadends, target):\n",
    "    moved, q, cnt, move = set(deadends), [\"0000\"], 0, {str(i): [str((i + 1) % 10), str((i - 1) % 10)] for i in range(10)}\n",
    "    if \"0000\" in moved:\n",
    "        return -1\n",
    "    while q:\n",
    "        new = []\n",
    "        cnt += 1\n",
    "        for s in q:\n",
    "            for i, c in enumerate(s):\n",
    "                for cur in (s[:i] + move[c][0] + s[i + 1:], s[:i] + move[c][1] + s[i + 1:]):\n",
    "                    if cur not in moved:\n",
    "                        if cur == target:\n",
    "                            return cnt\n",
    "                        new.append(cur)\n",
    "                        moved.add(cur)\n",
    "        q = new\n",
    "    return -1"
   ]
  },
  {
   "cell_type": "code",
   "execution_count": null,
   "metadata": {
    "collapsed": true
   },
   "outputs": [],
   "source": []
  },
  {
   "cell_type": "code",
   "execution_count": 20,
   "metadata": {
    "collapsed": false
   },
   "outputs": [
    {
     "data": {
      "text/plain": [
       "''"
      ]
     },
     "execution_count": 20,
     "metadata": {},
     "output_type": "execute_result"
    }
   ],
   "source": [
    "start = ['0000']\n",
    "start[0][0:0]"
   ]
  },
  {
   "cell_type": "code",
   "execution_count": 15,
   "metadata": {
    "collapsed": false
   },
   "outputs": [
    {
     "name": "stdout",
     "output_type": "stream",
     "text": [
      "(0, '0')\n",
      "(1, '2')\n",
      "(2, '4')\n",
      "(3, '6')\n"
     ]
    }
   ],
   "source": [
    "for i in ['0246']:\n",
    "    for j in enumerate(i):\n",
    "        print(j)"
   ]
  },
  {
   "cell_type": "code",
   "execution_count": 8,
   "metadata": {
    "collapsed": false
   },
   "outputs": [
    {
     "name": "stdout",
     "output_type": "stream",
     "text": [
      "{'0': ['1', '9'], '1': ['2', '0'], '2': ['3', '1'], '3': ['4', '2'], '4': ['5', '3'], '5': ['6', '4'], '6': ['7', '5'], '7': ['8', '6'], '8': ['9', '7'], '9': ['0', '8']}\n"
     ]
    }
   ],
   "source": [
    "print({str(i): [str((i + 1) % 10), str((i - 1) % 10)] for i in range(10)})"
   ]
  },
  {
   "cell_type": "code",
   "execution_count": 11,
   "metadata": {
    "collapsed": false
   },
   "outputs": [
    {
     "name": "stdout",
     "output_type": "stream",
     "text": [
      "{'0': ['1', '9'], '1': ['2', '0'], '2': ['3', '1'], '3': ['4', '2'], '4': ['5', '3'], '5': ['6', '4'], '6': ['7', '5'], '7': ['8', '6'], '8': ['9', '7'], '9': ['0', '8']}\n"
     ]
    }
   ],
   "source": [
    "print({str(i):[str((i+1)%10),str((i-1)%10)] for i in range(10)})"
   ]
  },
  {
   "cell_type": "code",
   "execution_count": null,
   "metadata": {
    "collapsed": true
   },
   "outputs": [],
   "source": []
  }
 ],
 "metadata": {
  "kernelspec": {
   "display_name": "Python 3",
   "language": "python",
   "name": "python3"
  },
  "language_info": {
   "codemirror_mode": {
    "name": "ipython",
    "version": 3
   },
   "file_extension": ".py",
   "mimetype": "text/x-python",
   "name": "python",
   "nbconvert_exporter": "python",
   "pygments_lexer": "ipython3",
   "version": "3.6.0"
  }
 },
 "nbformat": 4,
 "nbformat_minor": 2
}
