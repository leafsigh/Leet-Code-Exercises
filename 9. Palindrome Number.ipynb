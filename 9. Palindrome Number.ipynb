{
 "cells": [
  {
   "cell_type": "code",
   "execution_count": 62,
   "metadata": {
    "collapsed": false
   },
   "outputs": [],
   "source": [
    "def Palindrome(x):\n",
    "    palindrome = 0\n",
    "    y = x\n",
    "    output = False\n",
    "    if x>=0 and (x%10 != 0 and x != 0) :\n",
    "        while (y>0):\n",
    "            palindrome = palindrome * 10 + y % 10\n",
    "            y = int(y/10)\n",
    "    if palindrome == x:\n",
    "        output = True\n",
    "    return output"
   ]
  },
  {
   "cell_type": "code",
   "execution_count": 68,
   "metadata": {
    "collapsed": false
   },
   "outputs": [
    {
     "data": {
      "text/plain": [
       "True"
      ]
     },
     "execution_count": 68,
     "metadata": {},
     "output_type": "execute_result"
    }
   ],
   "source": [
    "Palindrome(423545324)"
   ]
  },
  {
   "cell_type": "code",
   "execution_count": 71,
   "metadata": {
    "collapsed": false
   },
   "outputs": [],
   "source": [
    "# Faster\n",
    "def PalindromeFaster(x):\n",
    "    palindrome = 0\n",
    "    if x>=0 and (x%10 != 0 and x != 0):\n",
    "        while (x > palindrome):\n",
    "            palindrome = palindrome*10 + x%10\n",
    "            x = int(x/10)\n",
    "    return (x==palindrome) or (int(palindrome/10)==x)\n",
    "    # situation of x==palindrome : 12344321\n",
    "    # situation of int(palindrome/10)==x : 12321"
   ]
  },
  {
   "cell_type": "code",
   "execution_count": 76,
   "metadata": {
    "collapsed": false
   },
   "outputs": [
    {
     "data": {
      "text/plain": [
       "True"
      ]
     },
     "execution_count": 76,
     "metadata": {},
     "output_type": "execute_result"
    }
   ],
   "source": [
    "PalindromeFaster(445626544)"
   ]
  },
  {
   "cell_type": "code",
   "execution_count": null,
   "metadata": {
    "collapsed": true
   },
   "outputs": [],
   "source": []
  }
 ],
 "metadata": {
  "kernelspec": {
   "display_name": "Python 3",
   "language": "python",
   "name": "python3"
  },
  "language_info": {
   "codemirror_mode": {
    "name": "ipython",
    "version": 3
   },
   "file_extension": ".py",
   "mimetype": "text/x-python",
   "name": "python",
   "nbconvert_exporter": "python",
   "pygments_lexer": "ipython3",
   "version": "3.6.0"
  }
 },
 "nbformat": 4,
 "nbformat_minor": 2
}
