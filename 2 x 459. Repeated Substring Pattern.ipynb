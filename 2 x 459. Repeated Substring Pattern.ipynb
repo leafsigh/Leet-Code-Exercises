{
 "cells": [
  {
   "cell_type": "markdown",
   "metadata": {},
   "source": [
    "Given a non-empty string check if it can be constructed by taking a substring of it and appending multiple copies of the substring together. You may assume the given string consists of lowercase English letters only and its length will not exceed 10000.\n",
    "\n",
    " \n",
    "\n",
    "### Example 1:\n",
    "Input: \"abab\"\n",
    "<br>Output: True\n",
    "<br>Explanation: It's the substring \"ab\" twice.\n",
    "\n",
    "### Example 2:\n",
    "Input: \"aba\"\n",
    "<br>Output: False\n",
    "\n",
    "### Example 3:\n",
    "<br>Input: \"abcabcabcabc\"\n",
    "<br>Output: True\n",
    "<br>Explanation: It's the substring \"abc\" four times. (And the substring \"abcabc\" twice.)"
   ]
  },
  {
   "cell_type": "code",
   "execution_count": 12,
   "metadata": {
    "collapsed": true
   },
   "outputs": [],
   "source": [
    "def repeatedSubstringPattern(s):\n",
    "    l = len(s)\n",
    "    for i in range(1,int(l/2)+1):\n",
    "        print('i: ',i)\n",
    "        if l%i!=0:\n",
    "            next\n",
    "        else:\n",
    "            m = int(l/i)\n",
    "            print('m: ',m)\n",
    "            if m*s[:i]==s:\n",
    "                return True\n",
    "    return False"
   ]
  },
  {
   "cell_type": "code",
   "execution_count": null,
   "metadata": {
    "collapsed": false
   },
   "outputs": [],
   "source": []
  },
  {
   "cell_type": "code",
   "execution_count": 9,
   "metadata": {
    "collapsed": false
   },
   "outputs": [
    {
     "data": {
      "text/plain": [
       "5"
      ]
     },
     "execution_count": 9,
     "metadata": {},
     "output_type": "execute_result"
    }
   ],
   "source": [
    "len(5*s[:1])"
   ]
  },
  {
   "cell_type": "code",
   "execution_count": null,
   "metadata": {
    "collapsed": true
   },
   "outputs": [],
   "source": []
  }
 ],
 "metadata": {
  "kernelspec": {
   "display_name": "Python 3",
   "language": "python",
   "name": "python3"
  },
  "language_info": {
   "codemirror_mode": {
    "name": "ipython",
    "version": 3
   },
   "file_extension": ".py",
   "mimetype": "text/x-python",
   "name": "python",
   "nbconvert_exporter": "python",
   "pygments_lexer": "ipython3",
   "version": "3.6.0"
  }
 },
 "nbformat": 4,
 "nbformat_minor": 2
}
