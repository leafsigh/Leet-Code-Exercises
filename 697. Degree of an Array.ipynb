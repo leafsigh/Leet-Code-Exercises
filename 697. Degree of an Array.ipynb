{
 "cells": [
  {
   "cell_type": "markdown",
   "metadata": {},
   "source": [
    "Given a non-empty array of non-negative integers nums, the degree of this array is defined as the maximum frequency of any one of its elements.\n",
    "\n",
    "Your task is to find the smallest possible length of a (contiguous) subarray of nums, that has the same degree as nums.\n",
    "\n",
    "Example 1:\n",
    "\n",
    "Input: [1, 2, 2, 3, 1]\n",
    "Output: 2\n",
    "Explanation: \n",
    "The input array has a degree of 2 because both elements 1 and 2 appear twice.\n",
    "Of the subarrays that have the same degree:\n",
    "[1, 2, 2, 3, 1], [1, 2, 2, 3], [2, 2, 3, 1], [1, 2, 2], [2, 2, 3], [2, 2]\n",
    "The shortest length is 2. So return 2.\n",
    "\n",
    "\n",
    "Example 2:\n",
    "\n",
    "Input: [1,2,2,3,1,4,2]\n",
    "Output: 6"
   ]
  },
  {
   "cell_type": "code",
   "execution_count": 19,
   "metadata": {
    "collapsed": true
   },
   "outputs": [],
   "source": [
    "def findShortestSubArray(nums):\n",
    "        left, right, count = {}, {}, {}\n",
    "        for i, x in enumerate(nums):\n",
    "            if x not in left: left[x] = i\n",
    "            right[x] = i\n",
    "            count[x] = count.get(x, 0) + 1\n",
    "\n",
    "        ans = len(nums)\n",
    "        degree = max(count.values())\n",
    "        for x in count:\n",
    "            if count[x] == degree:\n",
    "                ans = min(ans, right[x] - left[x] + 1)\n",
    "\n",
    "        return ans"
   ]
  },
  {
   "cell_type": "code",
   "execution_count": 1,
   "metadata": {
    "collapsed": true
   },
   "outputs": [],
   "source": [
    "nums = [1,2,2,3,1,3,4,2,3,4,1,2,2]"
   ]
  },
  {
   "cell_type": "code",
   "execution_count": 4,
   "metadata": {
    "collapsed": false
   },
   "outputs": [],
   "source": [
    "a = enumerate(nums)"
   ]
  },
  {
   "cell_type": "code",
   "execution_count": 33,
   "metadata": {
    "collapsed": false
   },
   "outputs": [],
   "source": [
    "left, right, count ={}, {}, {}\n",
    "for i,x in enumerate(nums):\n",
    "    if x not in left:\n",
    "        left[x]=i\n",
    "    right[x]=i\n",
    "    count[x]=count.get(x,0)+1"
   ]
  },
  {
   "cell_type": "code",
   "execution_count": 34,
   "metadata": {
    "collapsed": false
   },
   "outputs": [
    {
     "data": {
      "text/plain": [
       "{1: 0, 2: 1, 3: 3, 4: 6}"
      ]
     },
     "execution_count": 34,
     "metadata": {},
     "output_type": "execute_result"
    }
   ],
   "source": [
    "left"
   ]
  },
  {
   "cell_type": "code",
   "execution_count": 35,
   "metadata": {
    "collapsed": false
   },
   "outputs": [
    {
     "data": {
      "text/plain": [
       "{1: 10, 2: 12, 3: 8, 4: 9}"
      ]
     },
     "execution_count": 35,
     "metadata": {},
     "output_type": "execute_result"
    }
   ],
   "source": [
    "right"
   ]
  },
  {
   "cell_type": "code",
   "execution_count": 36,
   "metadata": {
    "collapsed": false
   },
   "outputs": [
    {
     "data": {
      "text/plain": [
       "{1: 3, 2: 5, 3: 3, 4: 2}"
      ]
     },
     "execution_count": 36,
     "metadata": {},
     "output_type": "execute_result"
    }
   ],
   "source": [
    "count"
   ]
  },
  {
   "cell_type": "code",
   "execution_count": 37,
   "metadata": {
    "collapsed": false
   },
   "outputs": [
    {
     "data": {
      "text/plain": [
       "dict_values([3, 5, 3, 2])"
      ]
     },
     "execution_count": 37,
     "metadata": {},
     "output_type": "execute_result"
    }
   ],
   "source": [
    "count.values()"
   ]
  },
  {
   "cell_type": "code",
   "execution_count": null,
   "metadata": {
    "collapsed": true
   },
   "outputs": [],
   "source": []
  },
  {
   "cell_type": "code",
   "execution_count": null,
   "metadata": {
    "collapsed": true
   },
   "outputs": [],
   "source": []
  }
 ],
 "metadata": {
  "kernelspec": {
   "display_name": "Python 3",
   "language": "python",
   "name": "python3"
  },
  "language_info": {
   "codemirror_mode": {
    "name": "ipython",
    "version": 3
   },
   "file_extension": ".py",
   "mimetype": "text/x-python",
   "name": "python",
   "nbconvert_exporter": "python",
   "pygments_lexer": "ipython3",
   "version": "3.6.0"
  }
 },
 "nbformat": 4,
 "nbformat_minor": 2
}
