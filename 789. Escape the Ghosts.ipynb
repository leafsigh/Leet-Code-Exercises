{
 "cells": [
  {
   "cell_type": "markdown",
   "metadata": {},
   "source": [
    "You are playing a simplified Pacman game. You start at the point (0, 0), and your destination is (target[0], target[1]). There are several ghosts on the map, the i-th ghost starts at (ghosts[i][0], ghosts[i][1]).\n",
    "\n",
    "Each turn, you and all ghosts simultaneously *may* move in one of 4 cardinal directions: north, east, west, or south, going from the previous point to a new point 1 unit of distance away.\n",
    "\n",
    "You escape if and only if you can reach the target before any ghost reaches you (for any given moves the ghosts may take.)  If you reach any square (including the target) at the same time as a ghost, it doesn't count as an escape.\n",
    "\n",
    "Return True if and only if it is possible to escape.\n",
    "\n",
    "Example 1:\n",
    "\n",
    "Input: \n",
    "\n",
    "ghosts = [[1, 0], [0, 3]]\n",
    "\n",
    "target = [0, 1]\n",
    "\n",
    "Output: true\n",
    "\n",
    "Explanation: \n",
    "\n",
    "You can directly reach the destination (0, 1) at time 1, while the ghosts located at (1, 0) or (0, 3) have no way to catch up with you.\n",
    "\n",
    "\n",
    "Example 2:\n",
    "\n",
    "Input: \n",
    "\n",
    "ghosts = [[1, 0]]\n",
    "\n",
    "target = [2, 0]\n",
    "\n",
    "Output: false\n",
    "\n",
    "Explanation: \n",
    "\n",
    "You need to reach the destination (2, 0), but the ghost at (1, 0) lies between you and the destination.\n",
    "\n",
    "\n",
    "Example 3:\n",
    "\n",
    "Input: \n",
    "\n",
    "ghosts = [[2, 0]]\n",
    "\n",
    "target = [1, 0]\n",
    "\n",
    "Output: false\n",
    "\n",
    "Explanation: \n",
    "\n",
    "The ghost can reach the target at the same time as you."
   ]
  },
  {
   "cell_type": "code",
   "execution_count": 3,
   "metadata": {
    "collapsed": false
   },
   "outputs": [],
   "source": [
    "# The start position can be negative integer\n",
    "def escapeGhosts(ghosts, target):\n",
    "    step = abs(target[0])+abs(target[1])\n",
    "    for i in ghosts:\n",
    "        if abs(i[0]-target[0])+abs(i[1]-target[1])>step:\n",
    "            continue\n",
    "        else:\n",
    "            return False\n",
    "    return True"
   ]
  },
  {
   "cell_type": "code",
   "execution_count": 2,
   "metadata": {
    "collapsed": false
   },
   "outputs": [
    {
     "data": {
      "text/plain": [
       "3"
      ]
     },
     "execution_count": 2,
     "metadata": {},
     "output_type": "execute_result"
    }
   ],
   "source": [
    "a = [1,2]\n",
    "sum(a)"
   ]
  },
  {
   "cell_type": "code",
   "execution_count": null,
   "metadata": {
    "collapsed": true
   },
   "outputs": [],
   "source": []
  }
 ],
 "metadata": {
  "kernelspec": {
   "display_name": "Python 3",
   "language": "python",
   "name": "python3"
  },
  "language_info": {
   "codemirror_mode": {
    "name": "ipython",
    "version": 3
   },
   "file_extension": ".py",
   "mimetype": "text/x-python",
   "name": "python",
   "nbconvert_exporter": "python",
   "pygments_lexer": "ipython3",
   "version": "3.6.0"
  }
 },
 "nbformat": 4,
 "nbformat_minor": 2
}
