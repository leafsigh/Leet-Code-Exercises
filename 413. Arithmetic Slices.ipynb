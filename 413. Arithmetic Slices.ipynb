{
 "cells": [
  {
   "cell_type": "markdown",
   "metadata": {},
   "source": [
    "A sequence of number is called arithmetic if it consists of at least three elements and if the difference between any two consecutive elements is the same.\n",
    "\n",
    "<br>For example, these are arithmetic sequence:\n",
    "<br>\n",
    "<br>1, 3, 5, 7, 9\n",
    "<br>7, 7, 7, 7\n",
    "<br>3, -1, -5, -9\n",
    "<br>The following sequence is not arithmetic.\n",
    "<br>\n",
    "<br>1, 1, 2, 5, 7\n",
    "<br>\n",
    "<br>A zero-indexed array A consisting of N numbers is given. A slice of that array is any pair of integers (P, Q) such that 0 <= P < Q < N.\n",
    "<br>\n",
    "<br>A slice (P, Q) of array A is called arithmetic if the sequence:\n",
    "<br>A[P], A[p + 1], ..., A[Q - 1], A[Q] is arithmetic. In particular, this means that P + 1 < Q.\n",
    "<br>\n",
    "<br>The function should return the number of arithmetic slices in the array A.\n",
    "<br>\n",
    "\n",
    "### Example:\n",
    "\n",
    "A = [1, 2, 3, 4]\n",
    "<br>\n",
    "<br>return: 3, for 3 arithmetic slices in A: [1, 2, 3], [2, 3, 4] and [1, 2, 3, 4] itself."
   ]
  },
  {
   "cell_type": "code",
   "execution_count": 37,
   "metadata": {
    "collapsed": true
   },
   "outputs": [],
   "source": [
    "# DP algo\n",
    "def numberOfArithmeticSlices(A):\n",
    "    opt, i = [0,0], 1\n",
    "    for j in xrange(2,len(A)):\n",
    "        if A[j]-A[j-1] == A[j-1]-A[j-2]:\n",
    "            opt.append(opt[j-1]+i)\n",
    "            i += 1\n",
    "        else:\n",
    "            opt.append(opt[j-1])\n",
    "            i = 1\n",
    "    return opt[-1]"
   ]
  },
  {
   "cell_type": "code",
   "execution_count": null,
   "metadata": {
    "collapsed": true
   },
   "outputs": [],
   "source": []
  },
  {
   "cell_type": "code",
   "execution_count": 38,
   "metadata": {
    "collapsed": true
   },
   "outputs": [],
   "source": [
    "# DP simpler\n",
    "def numberOfArithmeticSlices(A):\n",
    "    curr, sum = 0, 0\n",
    "    for i in range(2,len(A)):\n",
    "        if A[i]-A[i-1] == A[i-1]-A[i-2]:\n",
    "            curr += 1\n",
    "            sum += curr\n",
    "        else:\n",
    "            curr = 0\n",
    "    return sum"
   ]
  },
  {
   "cell_type": "code",
   "execution_count": 35,
   "metadata": {
    "collapsed": true
   },
   "outputs": [],
   "source": [
    "def numberOfArithmeticSlices(A):\n",
    "    number = 0\n",
    "    ind_list=[1,2]\n",
    "    i=2\n",
    "    while i<len(A):\n",
    "        if A[i]-A[i-1]==A[i-1]-A[i-2]:\n",
    "            ind_list.append(ind_list[-1]+1)\n",
    "            i+=1\n",
    "        elif ind_list[-1]>=3:\n",
    "            number+=(ind_list[-1]-1)*(ind_list[-1]-2)/2\n",
    "            ind_list=[1,2]\n",
    "            i+=2\n",
    "        else:\n",
    "            i+=2   \n",
    "    if A[-1]-A[-2]==A[-2]-A[-3]:\n",
    "        number+=(ind_list[-1])*(ind_list[-1]-1)/2\n",
    "    return int(number)"
   ]
  },
  {
   "cell_type": "code",
   "execution_count": 36,
   "metadata": {
    "collapsed": false
   },
   "outputs": [
    {
     "data": {
      "text/plain": [
       "16"
      ]
     },
     "execution_count": 36,
     "metadata": {},
     "output_type": "execute_result"
    }
   ],
   "source": [
    "a=[1,2,3,4,5,3,3,3,2,4,6,8,10,8,6,4]\n",
    "numberOfArithmeticSlices(a)"
   ]
  },
  {
   "cell_type": "code",
   "execution_count": null,
   "metadata": {
    "collapsed": true
   },
   "outputs": [],
   "source": []
  }
 ],
 "metadata": {
  "kernelspec": {
   "display_name": "Python 3",
   "language": "python",
   "name": "python3"
  },
  "language_info": {
   "codemirror_mode": {
    "name": "ipython",
    "version": 3
   },
   "file_extension": ".py",
   "mimetype": "text/x-python",
   "name": "python",
   "nbconvert_exporter": "python",
   "pygments_lexer": "ipython3",
   "version": "3.6.0"
  }
 },
 "nbformat": 4,
 "nbformat_minor": 2
}
