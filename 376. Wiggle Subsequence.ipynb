{
 "cells": [
  {
   "cell_type": "markdown",
   "metadata": {},
   "source": [
    "A sequence of numbers is called a wiggle sequence if the differences between successive numbers strictly alternate between positive and negative. The first difference (if one exists) may be either positive or negative. A sequence with fewer than two elements is trivially a wiggle sequence.\n",
    "\n",
    "\n",
    "For example, [1,7,4,9,2,5] is a wiggle sequence because the differences (6,-3,5,-7,3) are alternately positive and negative. In contrast, [1,4,7,2,5] and [1,7,4,5,5] are not wiggle sequences, the first because its first two differences are positive and the second because its last difference is zero.\n",
    "\n",
    "\n",
    "Given a sequence of integers, return the length of the longest subsequence that is a wiggle sequence. A subsequence is obtained by deleting some number of elements (eventually, also zero) from the original sequence, leaving the remaining elements in their original order.\n",
    "\n",
    "### Example 1:\n",
    "\n",
    "Input: [1,7,4,9,2,5]\n",
    "\n",
    "Output: 6\n",
    "\n",
    "### Example 2:\n",
    "\n",
    "Input: [1,17,5,10,13,15,10,5,16,8]\n",
    "\n",
    "Output: 7\n",
    "\n",
    "### Example 3:\n",
    "\n",
    "Input: [1,2,3,4,5,6,7,8,9]\n",
    "\n",
    "Output: 2\n",
    "\n",
    "Follow up:\n",
    "Can you do it in O(n) time?"
   ]
  },
  {
   "cell_type": "code",
   "execution_count": 112,
   "metadata": {
    "collapsed": true
   },
   "outputs": [],
   "source": [
    "def wiggleMaxLength(nums):\n",
    "    if len(nums)<2:\n",
    "        return len(nums)\n",
    "    diffs = []\n",
    "    for i in range(1,len(nums)):\n",
    "        x = nums[i]-nums[i-1]\n",
    "        if x!=0:\n",
    "            diffs.append(x)\n",
    "    # if there were diffs of only 0, then seq length is 1\n",
    "    if not diffs:\n",
    "        return 1\n",
    "    max_seq = 1\n",
    "    for i in range(1,len(diffs)):\n",
    "        prod = diffs[i] * diffs[i - 1]\n",
    "        if (prod < 0):\n",
    "            max_seq += 1\n",
    "                \n",
    "    return max_seq + 1"
   ]
  },
  {
   "cell_type": "code",
   "execution_count": 100,
   "metadata": {
    "collapsed": false
   },
   "outputs": [],
   "source": [
    "def wiggleMaxLength_old(nums):\n",
    "    if not nums:\n",
    "        return 0\n",
    "    l = len(nums)\n",
    "    print('length:', l)\n",
    "    if l==1:\n",
    "        return 1\n",
    "    if l==2:\n",
    "        if nums[0]==nums[1]: return 1\n",
    "        else: return 2\n",
    "    if nums[0]==nums[1]:\n",
    "        dp_list = [1]\n",
    "    else:\n",
    "        dp_list=[2]\n",
    "    max_seq = 0\n",
    "    ind = 1\n",
    "    for i in range(2,l):\n",
    "        print('iter: ',i)\n",
    "        if nums[i-1]==nums[i-2]:\n",
    "            if (nums[i]-nums[i-1])*(nums[ind]-nums[ind-1])<0:\n",
    "                dp_list.append(dp_list[-1]+1)\n",
    "                ind = i\n",
    "            else:\n",
    "                dp_list.append(dp_list[-1])\n",
    "        else:\n",
    "            if (nums[i]-nums[i-1])*(nums[i-1]-nums[i-2])<0:\n",
    "                dp_list.append(dp_list[-1]+1)\n",
    "                ind = i\n",
    "            else:\n",
    "                dp_list.append(dp_list[-1])\n",
    "        print('dp_list: ',dp_list)\n",
    "\n",
    "    return dp_list[-1]"
   ]
  },
  {
   "cell_type": "code",
   "execution_count": 113,
   "metadata": {
    "collapsed": true
   },
   "outputs": [],
   "source": [
    "nums1 = [1,2,3,2,1,5,4,7,6,7,8,10]"
   ]
  },
  {
   "cell_type": "code",
   "execution_count": 114,
   "metadata": {
    "collapsed": false
   },
   "outputs": [
    {
     "data": {
      "text/plain": [
       "8"
      ]
     },
     "execution_count": 114,
     "metadata": {},
     "output_type": "execute_result"
    }
   ],
   "source": [
    "wiggleMaxLength(nums1)"
   ]
  },
  {
   "cell_type": "code",
   "execution_count": 115,
   "metadata": {
    "collapsed": false
   },
   "outputs": [],
   "source": [
    "nums2 = [1,17,5,10,13,15,10,5,16,8]"
   ]
  },
  {
   "cell_type": "code",
   "execution_count": 116,
   "metadata": {
    "collapsed": false
   },
   "outputs": [
    {
     "data": {
      "text/plain": [
       "7"
      ]
     },
     "execution_count": 116,
     "metadata": {},
     "output_type": "execute_result"
    }
   ],
   "source": [
    "wiggleMaxLength(nums2)"
   ]
  },
  {
   "cell_type": "code",
   "execution_count": 117,
   "metadata": {
    "collapsed": false
   },
   "outputs": [],
   "source": [
    "nums3 = [3,3,3]"
   ]
  },
  {
   "cell_type": "code",
   "execution_count": 118,
   "metadata": {
    "collapsed": false
   },
   "outputs": [
    {
     "data": {
      "text/plain": [
       "1"
      ]
     },
     "execution_count": 118,
     "metadata": {},
     "output_type": "execute_result"
    }
   ],
   "source": [
    "wiggleMaxLength(nums3)"
   ]
  },
  {
   "cell_type": "code",
   "execution_count": 119,
   "metadata": {
    "collapsed": true
   },
   "outputs": [],
   "source": [
    "nums4=[3,3,3,2,5]"
   ]
  },
  {
   "cell_type": "code",
   "execution_count": 120,
   "metadata": {
    "collapsed": false
   },
   "outputs": [
    {
     "data": {
      "text/plain": [
       "3"
      ]
     },
     "execution_count": 120,
     "metadata": {},
     "output_type": "execute_result"
    }
   ],
   "source": [
    "wiggleMaxLength(nums4)"
   ]
  },
  {
   "cell_type": "code",
   "execution_count": 121,
   "metadata": {
    "collapsed": true
   },
   "outputs": [],
   "source": [
    "nums5 = [3,4,4,2,5]"
   ]
  },
  {
   "cell_type": "code",
   "execution_count": 122,
   "metadata": {
    "collapsed": false
   },
   "outputs": [
    {
     "data": {
      "text/plain": [
       "4"
      ]
     },
     "execution_count": 122,
     "metadata": {},
     "output_type": "execute_result"
    }
   ],
   "source": [
    "wiggleMaxLength(nums5)"
   ]
  },
  {
   "cell_type": "code",
   "execution_count": 123,
   "metadata": {
    "collapsed": true
   },
   "outputs": [],
   "source": [
    "nums6 = [2,2,3,2,4,4,4,5,7,0,0,4,2,5,3,4,5,5,6,6,7,7,6,6,4,8]"
   ]
  },
  {
   "cell_type": "code",
   "execution_count": 124,
   "metadata": {
    "collapsed": false
   },
   "outputs": [
    {
     "data": {
      "text/plain": [
       "12"
      ]
     },
     "execution_count": 124,
     "metadata": {},
     "output_type": "execute_result"
    }
   ],
   "source": [
    "wiggleMaxLength(nums6)"
   ]
  },
  {
   "cell_type": "code",
   "execution_count": null,
   "metadata": {
    "collapsed": true
   },
   "outputs": [],
   "source": []
  },
  {
   "cell_type": "code",
   "execution_count": null,
   "metadata": {
    "collapsed": true
   },
   "outputs": [],
   "source": []
  }
 ],
 "metadata": {
  "kernelspec": {
   "display_name": "Python 3",
   "language": "python",
   "name": "python3"
  },
  "language_info": {
   "codemirror_mode": {
    "name": "ipython",
    "version": 3
   },
   "file_extension": ".py",
   "mimetype": "text/x-python",
   "name": "python",
   "nbconvert_exporter": "python",
   "pygments_lexer": "ipython3",
   "version": "3.6.0"
  }
 },
 "nbformat": 4,
 "nbformat_minor": 2
}
