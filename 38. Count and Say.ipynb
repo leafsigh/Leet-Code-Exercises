{
 "cells": [
  {
   "cell_type": "markdown",
   "metadata": {},
   "source": [
    "#0.  1   first row is 1\n",
    "#1.  11  you see one '1' in first row \n",
    "#2.  21  you see two '1' in second row\n",
    "#3.  12 11  you see one '2' and one '1' in third row\n",
    "#4.  11 12 21  you see one '1', one '2' and two '1' in fourth row\n",
    "#5.  31 22 11\n",
    "#6.  13 11 22 21\n",
    "\n",
    "Given an integer n, generate the nth term of the count-and-say sequence."
   ]
  },
  {
   "cell_type": "code",
   "execution_count": 35,
   "metadata": {
    "collapsed": false
   },
   "outputs": [
    {
     "data": {
      "text/plain": [
       "2"
      ]
     },
     "execution_count": 35,
     "metadata": {},
     "output_type": "execute_result"
    }
   ],
   "source": [
    "set((''+str(10)+\"22\"))\n",
    "(''+str(10)+\"22\").index('2')"
   ]
  },
  {
   "cell_type": "code",
   "execution_count": 36,
   "metadata": {
    "collapsed": true
   },
   "outputs": [],
   "source": [
    "def countAndSay(n):\n",
    "    LastList = '1'\n",
    "    for num in range(n):\n",
    "        ThisList = ''\n",
    "        target = 0\n",
    "        for i in range(len(LastList)):\n",
    "            if LastList[i]!=LastList[target] :\n",
    "                ThisList+=str(i-target)+str(LastList[target])\n",
    "                target = i\n",
    "            if i==len(LastList)-1:\n",
    "                ThisList+=str(i-target+1)+str(LastList[i])\n",
    "            #print(ThisList)\n",
    "        LastList = ThisList\n",
    "    return LastList"
   ]
  },
  {
   "cell_type": "code",
   "execution_count": 38,
   "metadata": {
    "collapsed": false
   },
   "outputs": [
    {
     "name": "stdout",
     "output_type": "stream",
     "text": [
      "11\n",
      "\n",
      "21\n",
      "\n",
      "1211\n",
      "\n",
      "11\n",
      "1112\n",
      "111221\n"
     ]
    },
    {
     "data": {
      "text/plain": [
       "'111221'"
      ]
     },
     "execution_count": 38,
     "metadata": {},
     "output_type": "execute_result"
    }
   ],
   "source": [
    "countAndSay(4)"
   ]
  },
  {
   "cell_type": "code",
   "execution_count": null,
   "metadata": {
    "collapsed": true
   },
   "outputs": [],
   "source": []
  }
 ],
 "metadata": {
  "kernelspec": {
   "display_name": "Python 3",
   "language": "python",
   "name": "python3"
  },
  "language_info": {
   "codemirror_mode": {
    "name": "ipython",
    "version": 3
   },
   "file_extension": ".py",
   "mimetype": "text/x-python",
   "name": "python",
   "nbconvert_exporter": "python",
   "pygments_lexer": "ipython3",
   "version": "3.6.0"
  }
 },
 "nbformat": 4,
 "nbformat_minor": 2
}
