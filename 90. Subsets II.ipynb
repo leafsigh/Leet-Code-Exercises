{
 "cells": [
  {
   "cell_type": "markdown",
   "metadata": {},
   "source": [
    "Given a collection of integers that might contain duplicates, nums, return all possible subsets (the power set).\n",
    "\n",
    "<br>Note: The solution set must not contain duplicate subsets.\n",
    "\n",
    "### Example:\n",
    "\n",
    "Input: [1,2,2]\n",
    "<br>\n",
    "<br>Output:\n",
    "<br>[\n",
    "<br>  [2],\n",
    "<br>  [1],\n",
    "<br>  [1,2,2],\n",
    "<br>  [2,2],\n",
    "<br>  [1,2],\n",
    "<br>  []\n",
    "<br>]"
   ]
  },
  {
   "cell_type": "code",
   "execution_count": 36,
   "metadata": {
    "collapsed": true
   },
   "outputs": [],
   "source": [
    "# Algo 1\n",
    "# Comments are for better understanding what's going on inside the code\n",
    "def subsetsWithDup(S):\n",
    "    res = [[]]\n",
    "    S.sort()\n",
    "#     print(S)\n",
    "    for i in range(len(S)):\n",
    "#         print('i=',i)\n",
    "        if i == 0 or S[i] != S[i - 1]:\n",
    "            l = len(res)\n",
    "#             print('S[i]:',S[i],'!=','S[i-1]:',S[i-1])\n",
    "#             print('l=len(res):',l)\n",
    "#         else:\n",
    "#             print('i!=0,  ','S[i]==S[i-1]')\n",
    "#             print('l=last l:',l)\n",
    "#         print('range:(len(res)-l,len(res)):',[len(res)-l,len(res)])\n",
    "        for j in range(len(res) - l, len(res)):\n",
    "#             print('j iter in range:',j)\n",
    "            res.append(res[j] + [S[i]])\n",
    "#             print('res=res[j=',j,']+[S[i=',i,']]=',res)\n",
    "    return res"
   ]
  },
  {
   "cell_type": "code",
   "execution_count": 37,
   "metadata": {
    "collapsed": false
   },
   "outputs": [
    {
     "data": {
      "text/plain": [
       "[[],\n",
       " [1],\n",
       " [1, 1],\n",
       " [3],\n",
       " [1, 3],\n",
       " [1, 1, 3],\n",
       " [4],\n",
       " [1, 4],\n",
       " [1, 1, 4],\n",
       " [3, 4],\n",
       " [1, 3, 4],\n",
       " [1, 1, 3, 4],\n",
       " [4, 4],\n",
       " [1, 4, 4],\n",
       " [1, 1, 4, 4],\n",
       " [3, 4, 4],\n",
       " [1, 3, 4, 4],\n",
       " [1, 1, 3, 4, 4],\n",
       " [5],\n",
       " [1, 5],\n",
       " [1, 1, 5],\n",
       " [3, 5],\n",
       " [1, 3, 5],\n",
       " [1, 1, 3, 5],\n",
       " [4, 5],\n",
       " [1, 4, 5],\n",
       " [1, 1, 4, 5],\n",
       " [3, 4, 5],\n",
       " [1, 3, 4, 5],\n",
       " [1, 1, 3, 4, 5],\n",
       " [4, 4, 5],\n",
       " [1, 4, 4, 5],\n",
       " [1, 1, 4, 4, 5],\n",
       " [3, 4, 4, 5],\n",
       " [1, 3, 4, 4, 5],\n",
       " [1, 1, 3, 4, 4, 5],\n",
       " [6],\n",
       " [1, 6],\n",
       " [1, 1, 6],\n",
       " [3, 6],\n",
       " [1, 3, 6],\n",
       " [1, 1, 3, 6],\n",
       " [4, 6],\n",
       " [1, 4, 6],\n",
       " [1, 1, 4, 6],\n",
       " [3, 4, 6],\n",
       " [1, 3, 4, 6],\n",
       " [1, 1, 3, 4, 6],\n",
       " [4, 4, 6],\n",
       " [1, 4, 4, 6],\n",
       " [1, 1, 4, 4, 6],\n",
       " [3, 4, 4, 6],\n",
       " [1, 3, 4, 4, 6],\n",
       " [1, 1, 3, 4, 4, 6],\n",
       " [5, 6],\n",
       " [1, 5, 6],\n",
       " [1, 1, 5, 6],\n",
       " [3, 5, 6],\n",
       " [1, 3, 5, 6],\n",
       " [1, 1, 3, 5, 6],\n",
       " [4, 5, 6],\n",
       " [1, 4, 5, 6],\n",
       " [1, 1, 4, 5, 6],\n",
       " [3, 4, 5, 6],\n",
       " [1, 3, 4, 5, 6],\n",
       " [1, 1, 3, 4, 5, 6],\n",
       " [4, 4, 5, 6],\n",
       " [1, 4, 4, 5, 6],\n",
       " [1, 1, 4, 4, 5, 6],\n",
       " [3, 4, 4, 5, 6],\n",
       " [1, 3, 4, 4, 5, 6],\n",
       " [1, 1, 3, 4, 4, 5, 6],\n",
       " [7],\n",
       " [1, 7],\n",
       " [1, 1, 7],\n",
       " [3, 7],\n",
       " [1, 3, 7],\n",
       " [1, 1, 3, 7],\n",
       " [4, 7],\n",
       " [1, 4, 7],\n",
       " [1, 1, 4, 7],\n",
       " [3, 4, 7],\n",
       " [1, 3, 4, 7],\n",
       " [1, 1, 3, 4, 7],\n",
       " [4, 4, 7],\n",
       " [1, 4, 4, 7],\n",
       " [1, 1, 4, 4, 7],\n",
       " [3, 4, 4, 7],\n",
       " [1, 3, 4, 4, 7],\n",
       " [1, 1, 3, 4, 4, 7],\n",
       " [5, 7],\n",
       " [1, 5, 7],\n",
       " [1, 1, 5, 7],\n",
       " [3, 5, 7],\n",
       " [1, 3, 5, 7],\n",
       " [1, 1, 3, 5, 7],\n",
       " [4, 5, 7],\n",
       " [1, 4, 5, 7],\n",
       " [1, 1, 4, 5, 7],\n",
       " [3, 4, 5, 7],\n",
       " [1, 3, 4, 5, 7],\n",
       " [1, 1, 3, 4, 5, 7],\n",
       " [4, 4, 5, 7],\n",
       " [1, 4, 4, 5, 7],\n",
       " [1, 1, 4, 4, 5, 7],\n",
       " [3, 4, 4, 5, 7],\n",
       " [1, 3, 4, 4, 5, 7],\n",
       " [1, 1, 3, 4, 4, 5, 7],\n",
       " [6, 7],\n",
       " [1, 6, 7],\n",
       " [1, 1, 6, 7],\n",
       " [3, 6, 7],\n",
       " [1, 3, 6, 7],\n",
       " [1, 1, 3, 6, 7],\n",
       " [4, 6, 7],\n",
       " [1, 4, 6, 7],\n",
       " [1, 1, 4, 6, 7],\n",
       " [3, 4, 6, 7],\n",
       " [1, 3, 4, 6, 7],\n",
       " [1, 1, 3, 4, 6, 7],\n",
       " [4, 4, 6, 7],\n",
       " [1, 4, 4, 6, 7],\n",
       " [1, 1, 4, 4, 6, 7],\n",
       " [3, 4, 4, 6, 7],\n",
       " [1, 3, 4, 4, 6, 7],\n",
       " [1, 1, 3, 4, 4, 6, 7],\n",
       " [5, 6, 7],\n",
       " [1, 5, 6, 7],\n",
       " [1, 1, 5, 6, 7],\n",
       " [3, 5, 6, 7],\n",
       " [1, 3, 5, 6, 7],\n",
       " [1, 1, 3, 5, 6, 7],\n",
       " [4, 5, 6, 7],\n",
       " [1, 4, 5, 6, 7],\n",
       " [1, 1, 4, 5, 6, 7],\n",
       " [3, 4, 5, 6, 7],\n",
       " [1, 3, 4, 5, 6, 7],\n",
       " [1, 1, 3, 4, 5, 6, 7],\n",
       " [4, 4, 5, 6, 7],\n",
       " [1, 4, 4, 5, 6, 7],\n",
       " [1, 1, 4, 4, 5, 6, 7],\n",
       " [3, 4, 4, 5, 6, 7],\n",
       " [1, 3, 4, 4, 5, 6, 7],\n",
       " [1, 1, 3, 4, 4, 5, 6, 7]]"
      ]
     },
     "execution_count": 37,
     "metadata": {},
     "output_type": "execute_result"
    }
   ],
   "source": [
    "a=[4,4,5,3,6,1,1,7]\n",
    "subsetsWithDup(a)"
   ]
  },
  {
   "cell_type": "code",
   "execution_count": 21,
   "metadata": {
    "collapsed": true
   },
   "outputs": [],
   "source": [
    "def subsetsWithDup(nums):\n",
    "\n",
    "    res = [[ ]]\n",
    "    nums.sort()\n",
    "    size = 0\n",
    "    for i in range(len(nums)):\n",
    "        print('i:',i)\n",
    "        if i > 0 and (nums[i] == nums[i-1]):\n",
    "            j=size\n",
    "            print('j=size',size)\n",
    "        else: \n",
    "            j = 0\n",
    "        size = len(res)\n",
    "        print('size=len(res)',size)\n",
    "        while j < size:\n",
    "            temp = res.copy()\n",
    "            temp.append(nums[i])\n",
    "            res.append(temp)\n",
    "            j += 1    \n",
    "    return res"
   ]
  },
  {
   "cell_type": "code",
   "execution_count": null,
   "metadata": {
    "collapsed": false
   },
   "outputs": [],
   "source": []
  },
  {
   "cell_type": "code",
   "execution_count": 11,
   "metadata": {
    "collapsed": false
   },
   "outputs": [
    {
     "data": {
      "text/plain": [
       "[]"
      ]
     },
     "execution_count": 11,
     "metadata": {},
     "output_type": "execute_result"
    }
   ],
   "source": [
    "b.copy()"
   ]
  },
  {
   "cell_type": "code",
   "execution_count": 16,
   "metadata": {
    "collapsed": false
   },
   "outputs": [
    {
     "ename": "TypeError",
     "evalue": "copy() takes no arguments (1 given)",
     "output_type": "error",
     "traceback": [
      "\u001b[0;31m---------------------------------------------------------------------------\u001b[0m",
      "\u001b[0;31mTypeError\u001b[0m                                 Traceback (most recent call last)",
      "\u001b[0;32m<ipython-input-16-761f9b833305>\u001b[0m in \u001b[0;36m<module>\u001b[0;34m()\u001b[0m\n\u001b[0;32m----> 1\u001b[0;31m \u001b[0ma\u001b[0m\u001b[0;34m.\u001b[0m\u001b[0mcopy\u001b[0m\u001b[0;34m(\u001b[0m\u001b[0ma\u001b[0m\u001b[0;34m)\u001b[0m\u001b[0;34m\u001b[0m\u001b[0m\n\u001b[0m",
      "\u001b[0;31mTypeError\u001b[0m: copy() takes no arguments (1 given)"
     ]
    }
   ],
   "source": [
    "a.copy(a)"
   ]
  },
  {
   "cell_type": "code",
   "execution_count": null,
   "metadata": {
    "collapsed": true
   },
   "outputs": [],
   "source": []
  }
 ],
 "metadata": {
  "kernelspec": {
   "display_name": "Python 3",
   "language": "python",
   "name": "python3"
  },
  "language_info": {
   "codemirror_mode": {
    "name": "ipython",
    "version": 3
   },
   "file_extension": ".py",
   "mimetype": "text/x-python",
   "name": "python",
   "nbconvert_exporter": "python",
   "pygments_lexer": "ipython3",
   "version": "3.6.0"
  }
 },
 "nbformat": 4,
 "nbformat_minor": 2
}
