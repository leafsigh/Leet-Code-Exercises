{
 "cells": [
  {
   "cell_type": "code",
   "execution_count": 116,
   "metadata": {
    "collapsed": true
   },
   "outputs": [],
   "source": [
    "class Student(object):\n",
    "\n",
    "    def __init__(self, name, score):\n",
    "        self.name = name\n",
    "        self.score = score\n",
    "\n",
    "    def print_score(self):\n",
    "        print('%s: %s' % (self.name, self.score))\n",
    "        \n",
    "    def get_grade(self):\n",
    "        if self.score >= 90:\n",
    "            return 'A'\n",
    "        elif self.score >= 60:\n",
    "            return 'B'\n",
    "        else:\n",
    "            return 'C'"
   ]
  },
  {
   "cell_type": "code",
   "execution_count": 117,
   "metadata": {
    "collapsed": false
   },
   "outputs": [
    {
     "name": "stdout",
     "output_type": "stream",
     "text": [
      "Bart Simpson: 59\n",
      "Lisa Simpson: 87\n"
     ]
    }
   ],
   "source": [
    "bart = Student('Bart Simpson', 59)\n",
    "lisa = Student('Lisa Simpson', 87)\n",
    "bart.print_score()\n",
    "lisa.print_score()"
   ]
  },
  {
   "cell_type": "code",
   "execution_count": 118,
   "metadata": {
    "collapsed": false
   },
   "outputs": [
    {
     "data": {
      "text/plain": [
       "'C'"
      ]
     },
     "execution_count": 118,
     "metadata": {},
     "output_type": "execute_result"
    }
   ],
   "source": [
    "bart.get_grade()"
   ]
  },
  {
   "cell_type": "code",
   "execution_count": 119,
   "metadata": {
    "collapsed": true
   },
   "outputs": [],
   "source": [
    "class LinkedList:\n",
    "    def __init__(self,initdata):\n",
    "        self.initdata = initdata\n",
    "        self.next = None\n",
    "        \n",
    "    def isEmpty(self):\n",
    "        return self.head is None\n",
    "    \n",
    "    def Append(self, data):\n",
    "        node = Node(data)\n",
    "        if self.head is None:\n",
    "            self.head = node\n",
    "            self.tail = node\n",
    "        else:\n",
    "            self.tail.next = node\n",
    "            self.tail = node"
   ]
  },
  {
   "cell_type": "code",
   "execution_count": null,
   "metadata": {
    "collapsed": false
   },
   "outputs": [],
   "source": []
  },
  {
   "cell_type": "code",
   "execution_count": 120,
   "metadata": {
    "collapsed": true
   },
   "outputs": [],
   "source": [
    "class Node:\n",
    "    def __init__(self, initdata):\n",
    "        self.__data = initdata\n",
    "        self.__next = None\n",
    "\n",
    "    def getData(self):\n",
    "        return self.__data\n",
    "\n",
    "    def getNext(self):\n",
    "        return self.__next\n",
    "\n",
    "    def setData(self, newdata):\n",
    "        self.__data = newdata\n",
    "\n",
    "    def setNext(self, newnext):\n",
    "        self.__next = newnext\n"
   ]
  },
  {
   "cell_type": "code",
   "execution_count": null,
   "metadata": {
    "collapsed": false
   },
   "outputs": [],
   "source": []
  },
  {
   "cell_type": "code",
   "execution_count": 165,
   "metadata": {
    "collapsed": false
   },
   "outputs": [
    {
     "name": "stdout",
     "output_type": "stream",
     "text": [
      "1 2\n",
      "<__main__.Node object at 0x10b33c0b8>\n",
      "2 3\n",
      "<__main__.Node object at 0x10b33c400>\n",
      "3 5\n",
      "<__main__.Node object at 0x10b33cfd0>\n",
      "5 8\n",
      "<__main__.Node object at 0x10b33c7b8>\n",
      "8 13\n",
      "<__main__.Node object at 0x10b33c1d0>\n",
      "13 21\n",
      "<__main__.Node object at 0x10b33c9b0>\n",
      "21 34\n",
      "<__main__.Node object at 0x10b33cb70>\n",
      "34 55\n",
      "<__main__.Node object at 0x10b33cb00>\n",
      "55 89\n",
      "<__main__.Node object at 0x10b33c3c8>\n",
      "89 144\n",
      "<__main__.Node object at 0x10b33c9e8>\n",
      "144 233\n"
     ]
    }
   ],
   "source": [
    "node1 = Node(1)\n",
    "node1.setNext(Node(2))\n",
    "node2 = node1.getNext()\n",
    "print(node1.getData(),node2.getData())\n",
    "for i in range(10):\n",
    "    new_node_value = node1.getData()+node2.getData()\n",
    "    new_node = Node(new_node_value)\n",
    "    node2.setNext(new_node)\n",
    "    print(node2.getNext()) #node2.getNext() is not a number, but a specific thing you defined, which is a node\n",
    "    node1=node2\n",
    "    node2=node2.getNext()\n",
    "    print(node1.getData(),node2.getData())"
   ]
  },
  {
   "cell_type": "markdown",
   "metadata": {
    "collapsed": false
   },
   "source": [
    "Merge two sorted linked lists and return it as a new list. The new list should be made by splicing together the nodes of the first two lists.\n",
    "\n",
    "Example:\n",
    "\n",
    "Input: 1->2->4, 1->3->4\n",
    "Output: 1->1->2->3->4->4"
   ]
  },
  {
   "cell_type": "code",
   "execution_count": 166,
   "metadata": {
    "collapsed": true
   },
   "outputs": [],
   "source": [
    "class ListNode(object):\n",
    "    def __init__(self, x):\n",
    "        self.value = x\n",
    "        self.next = None\n",
    "\n",
    "def mergeTwoLists(self,l1,l2):\n",
    "    if l1 is None:\n",
    "        return l2\n",
    "    elif l2 is None:\n",
    "        return l1\n",
    "    elif l1.value<l2.value:\n",
    "        l1.next=self.mergeTwoLists(l1.next,l2)\n",
    "        return l1\n",
    "    else:\n",
    "        l2.next=self.mergeTwoLists(l1,l2.next)\n",
    "        return l2"
   ]
  },
  {
   "cell_type": "code",
   "execution_count": null,
   "metadata": {
    "collapsed": true
   },
   "outputs": [],
   "source": []
  }
 ],
 "metadata": {
  "kernelspec": {
   "display_name": "Python 3",
   "language": "python",
   "name": "python3"
  },
  "language_info": {
   "codemirror_mode": {
    "name": "ipython",
    "version": 3
   },
   "file_extension": ".py",
   "mimetype": "text/x-python",
   "name": "python",
   "nbconvert_exporter": "python",
   "pygments_lexer": "ipython3",
   "version": "3.6.0"
  }
 },
 "nbformat": 4,
 "nbformat_minor": 2
}
