{
 "cells": [
  {
   "cell_type": "markdown",
   "metadata": {},
   "source": [
    "Given an array S of n integers, find three integers in S such that the sum is closest to a given number, target. Return the sum of the three integers. You may assume that each input would have exactly one solution.\n",
    "\n",
    "    For example, given array S = {-1 2 1 -4}, and target = 1.\n",
    "\n",
    "    The sum that is closest to the target is 2. (-1 + 2 + 1 = 2)."
   ]
  },
  {
   "cell_type": "code",
   "execution_count": 10,
   "metadata": {
    "collapsed": true
   },
   "outputs": [],
   "source": [
    "def threeSumClosest(num, target):\n",
    "        num.sort()\n",
    "        result = num[0] + num[1] + num[2]\n",
    "        for i in range(len(num) - 2):\n",
    "            j, k = i+1, len(num) - 1\n",
    "            while j < k:\n",
    "                agg = num[i] + num[j] + num[k]\n",
    "                if agg == target:\n",
    "                    return agg\n",
    "                \n",
    "                if abs(agg - target) < abs(result - target):\n",
    "                    result = agg\n",
    "                \n",
    "                if agg < target:\n",
    "                    j += 1\n",
    "                elif agg > target:\n",
    "                    k -= 1\n",
    "            \n",
    "        return result"
   ]
  },
  {
   "cell_type": "code",
   "execution_count": 8,
   "metadata": {
    "collapsed": false
   },
   "outputs": [],
   "source": [
    "nums = [321,654,32,534,65,4,653,75,344,56,345,543]\n",
    "nums.sort()"
   ]
  },
  {
   "cell_type": "code",
   "execution_count": 9,
   "metadata": {
    "collapsed": false
   },
   "outputs": [
    {
     "data": {
      "text/plain": [
       "[4, 32, 56, 65, 75, 321, 344, 345, 534, 543, 653, 654]"
      ]
     },
     "execution_count": 9,
     "metadata": {},
     "output_type": "execute_result"
    }
   ],
   "source": [
    "nums"
   ]
  },
  {
   "cell_type": "code",
   "execution_count": null,
   "metadata": {
    "collapsed": true
   },
   "outputs": [],
   "source": []
  }
 ],
 "metadata": {
  "kernelspec": {
   "display_name": "Python 3",
   "language": "python",
   "name": "python3"
  },
  "language_info": {
   "codemirror_mode": {
    "name": "ipython",
    "version": 3
   },
   "file_extension": ".py",
   "mimetype": "text/x-python",
   "name": "python",
   "nbconvert_exporter": "python",
   "pygments_lexer": "ipython3",
   "version": "3.6.0"
  }
 },
 "nbformat": 4,
 "nbformat_minor": 2
}
