{
 "cells": [
  {
   "cell_type": "markdown",
   "metadata": {},
   "source": [
    "A website domain like \"discuss.leetcode.com\" consists of various subdomains. At the top level, we have \"com\", at the next level, we have \"leetcode.com\", and at the lowest level, \"discuss.leetcode.com\". When we visit a domain like \"discuss.leetcode.com\", we will also visit the parent domains \"leetcode.com\" and \"com\" implicitly.\n",
    "\n",
    "<br>Now, call a \"count-paired domain\" to be a count (representing the number of visits this domain received), followed by a space, followed by the address. An example of a count-paired domain might be \"9001 discuss.leetcode.com\".\n",
    "\n",
    "<br>We are given a list cpdomains of count-paired domains. We would like a list of count-paired domains, (in the same format as the input, and in any order), that explicitly counts the number of visits to each subdomain.\n",
    "\n",
    "### Example 1:\n",
    "Input: \n",
    "<br>[\"9001 discuss.leetcode.com\"]\n",
    "<br>\n",
    "<br>Output: \n",
    "<br>[\"9001 discuss.leetcode.com\", \"9001 leetcode.com\", \"9001 com\"]\n",
    "<br>\n",
    "<br>Explanation: \n",
    "<br>We only have one website domain: \"discuss.leetcode.com\". As discussed above, the subdomain \"leetcode.com\" and \"com\" will also be visited. So they will all be visited 9001 times.\n",
    "\n",
    "### Example 2:\n",
    "Input: \n",
    "<br>[\"900 google.mail.com\", \"50 yahoo.com\", \"1 intel.mail.com\", \"5 wiki.org\"]\n",
    "<br>\n",
    "<br>Output: \n",
    "<br>[\"901 mail.com\",\"50 yahoo.com\",\"900 google.mail.com\",\"5 wiki.org\",\"5 org\",\"1 intel.mail.com\",\"951 com\"]\n",
    "<br>\n",
    "<br>Explanation: \n",
    "<br>We will visit \"google.mail.com\" 900 times, \"yahoo.com\" 50 times, \"intel.mail.com\" once and \"wiki.org\" 5 times. For the subdomains, we will visit \"mail.com\" 900 + 1 = 901 times, \"com\" 900 + 50 + 1 = 951 times, and \"org\" 5 times.\n"
   ]
  },
  {
   "cell_type": "code",
   "execution_count": 96,
   "metadata": {
    "collapsed": true
   },
   "outputs": [],
   "source": [
    "def subdomainVisits(cpdomains):\n",
    "    dic={}\n",
    "    for i in cpdomains:\n",
    "        visit = int(i.split(' ')[0])\n",
    "        split_domain = i.split(' ')[1].split('.')\n",
    "        domain_len = len(split_domain)\n",
    "        for j in range(domain_len):\n",
    "            key = '.'.join(split_domain[j:])\n",
    "            dic[key]=dic.get(key,0)+visit\n",
    "        \n",
    "    output=[]\n",
    "    for key,value in dic.items():\n",
    "        output.append(str(value)+' '+key)\n",
    "    return output"
   ]
  },
  {
   "cell_type": "code",
   "execution_count": 97,
   "metadata": {
    "collapsed": false
   },
   "outputs": [
    {
     "data": {
      "text/plain": [
       "['900 google.mail.com',\n",
       " '901 mail.com',\n",
       " '951 com',\n",
       " '50 yahoo.com',\n",
       " '1 intel.mail.com',\n",
       " '5 wiki.org',\n",
       " '5 org']"
      ]
     },
     "execution_count": 97,
     "metadata": {},
     "output_type": "execute_result"
    }
   ],
   "source": [
    "subdomainVisits(domain)"
   ]
  },
  {
   "cell_type": "code",
   "execution_count": 91,
   "metadata": {
    "collapsed": false
   },
   "outputs": [
    {
     "ename": "AttributeError",
     "evalue": "'list' object has no attribute 'Counter'",
     "output_type": "error",
     "traceback": [
      "\u001b[0;31m---------------------------------------------------------------------------\u001b[0m",
      "\u001b[0;31mAttributeError\u001b[0m                            Traceback (most recent call last)",
      "\u001b[0;32m<ipython-input-91-5ec83cca45bb>\u001b[0m in \u001b[0;36m<module>\u001b[0;34m()\u001b[0m\n\u001b[1;32m      1\u001b[0m \u001b[0mdomain\u001b[0m\u001b[0;34m=\u001b[0m\u001b[0;34m[\u001b[0m\u001b[0;34m\"900 google.mail.com\"\u001b[0m\u001b[0;34m,\u001b[0m \u001b[0;34m\"50 yahoo.com\"\u001b[0m\u001b[0;34m,\u001b[0m \u001b[0;34m\"1 intel.mail.com\"\u001b[0m\u001b[0;34m,\u001b[0m \u001b[0;34m\"5 wiki.org\"\u001b[0m\u001b[0;34m]\u001b[0m\u001b[0;34m\u001b[0m\u001b[0m\n\u001b[0;32m----> 2\u001b[0;31m \u001b[0mdomain\u001b[0m\u001b[0;34m.\u001b[0m\u001b[0mCounter\u001b[0m\u001b[0;34m(\u001b[0m\u001b[0;34m)\u001b[0m\u001b[0;34m\u001b[0m\u001b[0m\n\u001b[0m",
      "\u001b[0;31mAttributeError\u001b[0m: 'list' object has no attribute 'Counter'"
     ]
    }
   ],
   "source": [
    "domain=[\"900 google.mail.com\", \"50 yahoo.com\", \"1 intel.mail.com\", \"5 wiki.org\"]\n",
    "domain.Counter()"
   ]
  },
  {
   "cell_type": "code",
   "execution_count": 70,
   "metadata": {
    "collapsed": false
   },
   "outputs": [
    {
     "data": {
      "text/plain": [
       "[['900 google', 'mail', 'com'],\n",
       " ['50 yahoo', 'com'],\n",
       " ['1 intel', 'mail', 'com'],\n",
       " ['5 wiki', 'org']]"
      ]
     },
     "execution_count": 70,
     "metadata": {},
     "output_type": "execute_result"
    }
   ],
   "source": [
    "split_domain = [i.split('.') for i in domain]\n",
    "split_domain"
   ]
  },
  {
   "cell_type": "code",
   "execution_count": 71,
   "metadata": {
    "collapsed": false
   },
   "outputs": [
    {
     "name": "stdout",
     "output_type": "stream",
     "text": [
      "['mail', 'com', 'google', '900']\n",
      "mail\n",
      "{'mail': 900}\n",
      "com\n",
      "{'mail': 900, 'com': 900}\n",
      "google\n",
      "{'mail': 900, 'com': 900, 'google': 900}\n",
      "['com', 'yahoo', '50']\n",
      "com\n",
      "{'mail': 900, 'com': 950, 'google': 900}\n",
      "yahoo\n",
      "{'mail': 900, 'com': 950, 'google': 900, 'yahoo': 50}\n",
      "['mail', 'com', 'intel', '1']\n",
      "mail\n",
      "{'mail': 901, 'com': 950, 'google': 900, 'yahoo': 50}\n",
      "com\n",
      "{'mail': 901, 'com': 951, 'google': 900, 'yahoo': 50}\n",
      "intel\n",
      "{'mail': 901, 'com': 951, 'google': 900, 'yahoo': 50, 'intel': 1}\n",
      "['org', 'wiki', '5']\n",
      "org\n",
      "{'mail': 901, 'com': 951, 'google': 900, 'yahoo': 50, 'intel': 1, 'org': 5}\n",
      "wiki\n",
      "{'mail': 901, 'com': 951, 'google': 900, 'yahoo': 50, 'intel': 1, 'org': 5, 'wiki': 5}\n"
     ]
    }
   ],
   "source": [
    "dic={}\n",
    "for i in split_domain:\n",
    "    visit, title = i[0].split(' ')[0], i[0].split(' ')[1] \n",
    "    i.append(title)\n",
    "    i.append(visit)\n",
    "    i.remove(i[0])\n",
    "    print(i)\n",
    "    i[-1]=int(i[-1])\n",
    "    for j in i[:-1]:\n",
    "        print(j)\n",
    "        dic[j]=dic.get(j,0)+i[-1]  \n",
    "        print(dic)"
   ]
  },
  {
   "cell_type": "code",
   "execution_count": 64,
   "metadata": {
    "collapsed": false
   },
   "outputs": [
    {
     "data": {
      "text/plain": [
       "['mail', 'com', 'google', 900]"
      ]
     },
     "execution_count": 64,
     "metadata": {},
     "output_type": "execute_result"
    }
   ],
   "source": [
    "split_domain[0]"
   ]
  },
  {
   "cell_type": "code",
   "execution_count": 65,
   "metadata": {
    "collapsed": false
   },
   "outputs": [
    {
     "data": {
      "text/plain": [
       "{}"
      ]
     },
     "execution_count": 65,
     "metadata": {},
     "output_type": "execute_result"
    }
   ],
   "source": [
    "dic"
   ]
  },
  {
   "cell_type": "code",
   "execution_count": 49,
   "metadata": {
    "collapsed": false
   },
   "outputs": [
    {
     "data": {
      "text/plain": [
       "2"
      ]
     },
     "execution_count": 49,
     "metadata": {},
     "output_type": "execute_result"
    }
   ],
   "source": [
    "'a' in dic\n",
    "dic['a'] +=1\n",
    "dic['a']"
   ]
  },
  {
   "cell_type": "code",
   "execution_count": 16,
   "metadata": {
    "collapsed": false
   },
   "outputs": [],
   "source": [
    "split_domain[0].append(split_domain[0][0].split(' ')[0])"
   ]
  },
  {
   "cell_type": "code",
   "execution_count": 17,
   "metadata": {
    "collapsed": false
   },
   "outputs": [
    {
     "data": {
      "text/plain": [
       "['900 google', 'mail', 'com', '900', '900', '900', '900']"
      ]
     },
     "execution_count": 17,
     "metadata": {},
     "output_type": "execute_result"
    }
   ],
   "source": [
    "split_domain[0]"
   ]
  },
  {
   "cell_type": "code",
   "execution_count": null,
   "metadata": {
    "collapsed": true
   },
   "outputs": [],
   "source": []
  }
 ],
 "metadata": {
  "kernelspec": {
   "display_name": "Python 3",
   "language": "python",
   "name": "python3"
  },
  "language_info": {
   "codemirror_mode": {
    "name": "ipython",
    "version": 3
   },
   "file_extension": ".py",
   "mimetype": "text/x-python",
   "name": "python",
   "nbconvert_exporter": "python",
   "pygments_lexer": "ipython3",
   "version": "3.6.0"
  }
 },
 "nbformat": 4,
 "nbformat_minor": 2
}
