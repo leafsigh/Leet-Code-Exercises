{
 "cells": [
  {
   "cell_type": "markdown",
   "metadata": {},
   "source": [
    "Given a positive integer N, how many ways can we write it as a sum of consecutive positive integers?\n",
    "\n",
    "### Example 1:\n",
    "Input: 5\n",
    "\n",
    "Output: 2\n",
    "\n",
    "Explanation: 5 = 5 = 2 + 3\n",
    "\n",
    "### Example 2:\n",
    "Input: 9\n",
    "\n",
    "Output: 3\n",
    "\n",
    "Explanation: 9 = 9 = 4 + 5 = 2 + 3 + 4\n",
    "\n",
    "### Example 3:\n",
    "Input: 15\n",
    "\n",
    "Output: 4\n",
    "\n",
    "Explanation: 15 = 15 = 8 + 7 = 4 + 5 + 6 = 1 + 2 + 3 + 4 + 5\n",
    "\n",
    "Note: 1 <= N <= 10 ^ 9."
   ]
  },
  {
   "cell_type": "code",
   "execution_count": null,
   "metadata": {
    "collapsed": true
   },
   "outputs": [],
   "source": [
    "# Turn to the algorithm pdf if you can't recall how to solve it"
   ]
  },
  {
   "cell_type": "code",
   "execution_count": 26,
   "metadata": {
    "collapsed": true
   },
   "outputs": [],
   "source": [
    "def consecutiveNumbersSum(N):\n",
    "    seq = 0\n",
    "    k = 1\n",
    "    upper = int((2*N)**0.5)\n",
    "    for k in range(1,upper+1):\n",
    "        x2 = (2*N)/k - k - 1\n",
    "        if x2%2==0 and x2>=0:\n",
    "            seq +=1\n",
    "    return seq"
   ]
  },
  {
   "cell_type": "code",
   "execution_count": 28,
   "metadata": {
    "collapsed": false
   },
   "outputs": [
    {
     "data": {
      "text/plain": [
       "4"
      ]
     },
     "execution_count": 28,
     "metadata": {},
     "output_type": "execute_result"
    }
   ],
   "source": [
    "consecutiveNumbersSum(15)"
   ]
  },
  {
   "cell_type": "code",
   "execution_count": null,
   "metadata": {
    "collapsed": false
   },
   "outputs": [],
   "source": []
  },
  {
   "cell_type": "code",
   "execution_count": null,
   "metadata": {
    "collapsed": false
   },
   "outputs": [],
   "source": []
  },
  {
   "cell_type": "code",
   "execution_count": null,
   "metadata": {
    "collapsed": true
   },
   "outputs": [],
   "source": []
  }
 ],
 "metadata": {
  "kernelspec": {
   "display_name": "Python 3",
   "language": "python",
   "name": "python3"
  },
  "language_info": {
   "codemirror_mode": {
    "name": "ipython",
    "version": 3
   },
   "file_extension": ".py",
   "mimetype": "text/x-python",
   "name": "python",
   "nbconvert_exporter": "python",
   "pygments_lexer": "ipython3",
   "version": "3.6.0"
  }
 },
 "nbformat": 4,
 "nbformat_minor": 2
}
