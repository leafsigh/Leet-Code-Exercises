{
 "cells": [
  {
   "cell_type": "markdown",
   "metadata": {},
   "source": [
    "Given a 2D binary matrix filled with 0's and 1's, find the largest square containing only 1's and return its area.\n",
    "\n",
    "Example:\n",
    "\n",
    "Input: \n",
    "\n",
    "1 0 1 0 0\n",
    "\n",
    "1 0 1 1 1\n",
    "\n",
    "1 1 1 1 1\n",
    "\n",
    "1 0 0 1 0\n",
    "\n",
    "Output: 4\n"
   ]
  },
  {
   "cell_type": "code",
   "execution_count": 5,
   "metadata": {
    "collapsed": false
   },
   "outputs": [
    {
     "data": {
      "text/plain": [
       "[['0', '1', '1', '1'],\n",
       " ['0', '1', '1', '1'],\n",
       " ['0', '1', '1', '1'],\n",
       " ['1', '0', '1', '1']]"
      ]
     },
     "execution_count": 5,
     "metadata": {},
     "output_type": "execute_result"
    }
   ],
   "source": [
    "# The matrix is like:\n",
    "matrix = list([list(['0','1','1','1']),list(['0','1','1','1']),list(['0','1','1','1']),list(['1','0','1','1'])])\n",
    "matrix"
   ]
  },
  {
   "cell_type": "code",
   "execution_count": 22,
   "metadata": {
    "collapsed": true
   },
   "outputs": [],
   "source": [
    "def maximalSquare(matrix):\n",
    "    if not matrix: # exclude the situation of Nan\n",
    "        return 0\n",
    "    m,n = len(matrix), len(matrix[0])\n",
    "    if m==1 and n==1: # exclude the situation of [['0']] and [['1']]\n",
    "        return int(matrix[0][0])\n",
    "    dp_mat = [[0 if matrix[i][j]=='0' else 1 for j in range(n)] for i in range(m)]\n",
    "    for x in range(1,m):\n",
    "        for y in range(1,n):\n",
    "            if dp_mat[x][y]==1:\n",
    "                dp_mat[x][y]=min(dp_mat[x-1][y-1],dp_mat[x-1][y],dp_mat[x][y-1])+1\n",
    "            else:\n",
    "                dp_mat[x][y]=0\n",
    "    max_sq = max([max(i) for i in dp_mat])\n",
    "    return max_sq**2"
   ]
  },
  {
   "cell_type": "code",
   "execution_count": 23,
   "metadata": {
    "collapsed": false
   },
   "outputs": [
    {
     "data": {
      "text/plain": [
       "9"
      ]
     },
     "execution_count": 23,
     "metadata": {},
     "output_type": "execute_result"
    }
   ],
   "source": [
    "#matrix type:\n",
    "maximalSquare(matrix)"
   ]
  },
  {
   "cell_type": "code",
   "execution_count": null,
   "metadata": {
    "collapsed": false
   },
   "outputs": [],
   "source": []
  },
  {
   "cell_type": "code",
   "execution_count": null,
   "metadata": {
    "collapsed": false
   },
   "outputs": [],
   "source": []
  },
  {
   "cell_type": "code",
   "execution_count": null,
   "metadata": {
    "collapsed": false
   },
   "outputs": [],
   "source": []
  },
  {
   "cell_type": "code",
   "execution_count": null,
   "metadata": {
    "collapsed": false
   },
   "outputs": [],
   "source": []
  },
  {
   "cell_type": "code",
   "execution_count": null,
   "metadata": {
    "collapsed": false
   },
   "outputs": [],
   "source": []
  },
  {
   "cell_type": "code",
   "execution_count": null,
   "metadata": {
    "collapsed": false
   },
   "outputs": [],
   "source": []
  },
  {
   "cell_type": "code",
   "execution_count": null,
   "metadata": {
    "collapsed": true
   },
   "outputs": [],
   "source": []
  },
  {
   "cell_type": "code",
   "execution_count": null,
   "metadata": {
    "collapsed": false
   },
   "outputs": [],
   "source": []
  },
  {
   "cell_type": "code",
   "execution_count": null,
   "metadata": {
    "collapsed": false
   },
   "outputs": [],
   "source": []
  },
  {
   "cell_type": "code",
   "execution_count": 3,
   "metadata": {
    "collapsed": false
   },
   "outputs": [],
   "source": []
  },
  {
   "cell_type": "code",
   "execution_count": null,
   "metadata": {
    "collapsed": false
   },
   "outputs": [],
   "source": []
  }
 ],
 "metadata": {
  "kernelspec": {
   "display_name": "Python 3",
   "language": "python",
   "name": "python3"
  },
  "language_info": {
   "codemirror_mode": {
    "name": "ipython",
    "version": 3
   },
   "file_extension": ".py",
   "mimetype": "text/x-python",
   "name": "python",
   "nbconvert_exporter": "python",
   "pygments_lexer": "ipython3",
   "version": "3.6.0"
  }
 },
 "nbformat": 4,
 "nbformat_minor": 2
}
