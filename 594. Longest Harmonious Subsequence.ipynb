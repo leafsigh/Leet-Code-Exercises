{
 "cells": [
  {
   "cell_type": "markdown",
   "metadata": {},
   "source": [
    "**[Problem Description](https://leetcode.com/problems/longest-harmonious-subsequence/)**"
   ]
  },
  {
   "cell_type": "code",
   "execution_count": 9,
   "metadata": {},
   "outputs": [],
   "source": [
    "def findLHS(nums):\n",
    "\n",
    "    cnt_dict = {}\n",
    "    max_length = 0\n",
    "\n",
    "    for i in nums:\n",
    "        if i not in cnt_dict.keys():\n",
    "            cnt_dict[i]=1\n",
    "        else:\n",
    "            cnt_dict[i]+=1\n",
    "    print(cnt_dict)\n",
    "    for k,v in cnt_dict.items():\n",
    "        if (k+1 not in cnt_dict.keys()) and (k-1 not in cnt_dict.keys()):\n",
    "            continue\n",
    "        if (k+1 in cnt_dict.keys()):\n",
    "            max_length = max(max_length,v+cnt_dict[k+1])\n",
    "        if (k-1 in cnt_dict.keys()):\n",
    "            max_length = max(max_length,v+cnt_dict[k-1])\n",
    "    return max_length"
   ]
  },
  {
   "cell_type": "code",
   "execution_count": 10,
   "metadata": {},
   "outputs": [
    {
     "name": "stdout",
     "output_type": "stream",
     "text": [
      "{1: 2, 2: 2}\n"
     ]
    },
    {
     "data": {
      "text/plain": [
       "4"
      ]
     },
     "execution_count": 10,
     "metadata": {},
     "output_type": "execute_result"
    }
   ],
   "source": [
    "findLHS([1,2,2,1])"
   ]
  },
  {
   "cell_type": "code",
   "execution_count": 11,
   "metadata": {},
   "outputs": [
    {
     "name": "stdout",
     "output_type": "stream",
     "text": [
      "{1: 1, 3: 2, 2: 3, 5: 1, 7: 1}\n"
     ]
    },
    {
     "data": {
      "text/plain": [
       "5"
      ]
     },
     "execution_count": 11,
     "metadata": {},
     "output_type": "execute_result"
    }
   ],
   "source": [
    "findLHS([1,3,2,2,5,2,3,7])"
   ]
  },
  {
   "cell_type": "code",
   "execution_count": null,
   "metadata": {},
   "outputs": [],
   "source": []
  }
 ],
 "metadata": {
  "kernelspec": {
   "display_name": "Python 3",
   "language": "python",
   "name": "python3"
  },
  "language_info": {
   "codemirror_mode": {
    "name": "ipython",
    "version": 3
   },
   "file_extension": ".py",
   "mimetype": "text/x-python",
   "name": "python",
   "nbconvert_exporter": "python",
   "pygments_lexer": "ipython3",
   "version": "3.7.6"
  }
 },
 "nbformat": 4,
 "nbformat_minor": 4
}
