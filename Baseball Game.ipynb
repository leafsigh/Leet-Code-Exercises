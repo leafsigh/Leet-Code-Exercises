{
 "cells": [
  {
   "cell_type": "code",
   "execution_count": 139,
   "metadata": {
    "collapsed": true
   },
   "outputs": [],
   "source": [
    "b=['1','2','3','C','D','+','6','10','+','5','C','9','D','+','C','D']"
   ]
  },
  {
   "cell_type": "code",
   "execution_count": 140,
   "metadata": {
    "collapsed": false
   },
   "outputs": [],
   "source": [
    "l=[]\n",
    "for i in range(len(b)):\n",
    "    try:\n",
    "        b[i] = int(b[i])\n",
    "    except:\n",
    "        1"
   ]
  },
  {
   "cell_type": "code",
   "execution_count": 141,
   "metadata": {
    "collapsed": false
   },
   "outputs": [],
   "source": [
    "for i in range(len(b)):\n",
    "    if b[i]=='C':\n",
    "        b[i-1]=0"
   ]
  },
  {
   "cell_type": "code",
   "execution_count": 142,
   "metadata": {
    "collapsed": true
   },
   "outputs": [],
   "source": [
    "while 0 in b:\n",
    "    b.remove(0)\n",
    "while 'C' in b:\n",
    "    b.remove('C')"
   ]
  },
  {
   "cell_type": "raw",
   "metadata": {},
   "source": [
    "i = 0\n",
    "while i < len(b):\n",
    "    if b[i] == 0 or b[i] == \"C\":\n",
    "        b.pop(i)\n",
    "    else:\n",
    "        i+=1"
   ]
  },
  {
   "cell_type": "code",
   "execution_count": 143,
   "metadata": {
    "collapsed": false
   },
   "outputs": [
    {
     "data": {
      "text/plain": [
       "[1, 2, 'D', '+', 6, 10, '+', 9, 'D', 'D']"
      ]
     },
     "execution_count": 143,
     "metadata": {},
     "output_type": "execute_result"
    }
   ],
   "source": [
    "b"
   ]
  },
  {
   "cell_type": "code",
   "execution_count": 144,
   "metadata": {
    "collapsed": false
   },
   "outputs": [],
   "source": [
    "for i in range(len(b)):\n",
    "    if b[i]=='D':\n",
    "        b[i]=2*b[i-1]\n",
    "    if b[i]=='+':\n",
    "        b[i]=b[i-1]+b[i-2]"
   ]
  },
  {
   "cell_type": "code",
   "execution_count": 145,
   "metadata": {
    "collapsed": false
   },
   "outputs": [
    {
     "data": {
      "text/plain": [
       "[1, 2, 4, 6, 6, 10, 16, 9, 18, 36]"
      ]
     },
     "execution_count": 145,
     "metadata": {},
     "output_type": "execute_result"
    }
   ],
   "source": [
    "b"
   ]
  },
  {
   "cell_type": "code",
   "execution_count": 146,
   "metadata": {
    "collapsed": false
   },
   "outputs": [
    {
     "data": {
      "text/plain": [
       "108"
      ]
     },
     "execution_count": 146,
     "metadata": {},
     "output_type": "execute_result"
    }
   ],
   "source": [
    "score=sum(b)\n",
    "score"
   ]
  },
  {
   "cell_type": "code",
   "execution_count": 172,
   "metadata": {
    "collapsed": true
   },
   "outputs": [],
   "source": [
    "# stupid answer\n",
    "def calPoints(ops):\n",
    "    for i in range(len(ops)):\n",
    "        try:\n",
    "            ops[i] = int(ops[i])\n",
    "        except:\n",
    "            1\n",
    "        if ops[i]=='C':\n",
    "            for t in list(range(i,-1,-1)):\n",
    "                if ops[t]!='C' and ops[t]!=0:\n",
    "                    ops[t]=0\n",
    "                    break\n",
    "#     print(ops)\n",
    "    while 0 in ops:\n",
    "        ops.remove(0)\n",
    "#     print(ops)\n",
    "    while 'C' in ops:\n",
    "        ops.remove('C')\n",
    "#     print(ops)\n",
    "    for i in range(len(ops)):\n",
    "        if ops[i]=='D':\n",
    "            ops[i]=2*ops[i-1]\n",
    "        if ops[i]=='+':\n",
    "            ops[i]=ops[i-1]+ops[i-2]\n",
    "#     print(ops)\n",
    "    score=sum(ops)\n",
    "    return score"
   ]
  },
  {
   "cell_type": "code",
   "execution_count": 173,
   "metadata": {
    "collapsed": false
   },
   "outputs": [
    {
     "data": {
      "text/plain": [
       "108"
      ]
     },
     "execution_count": 173,
     "metadata": {},
     "output_type": "execute_result"
    }
   ],
   "source": [
    "calPoints(b)"
   ]
  },
  {
   "cell_type": "code",
   "execution_count": 174,
   "metadata": {
    "collapsed": false
   },
   "outputs": [
    {
     "data": {
      "text/plain": [
       "27"
      ]
     },
     "execution_count": 174,
     "metadata": {},
     "output_type": "execute_result"
    }
   ],
   "source": [
    "c=[\"5\",\"-2\",\"4\",\"C\",\"D\",\"9\",\"+\",\"+\"]\n",
    "calPoints(c)"
   ]
  },
  {
   "cell_type": "code",
   "execution_count": 175,
   "metadata": {
    "collapsed": false
   },
   "outputs": [
    {
     "data": {
      "text/plain": [
       "30"
      ]
     },
     "execution_count": 175,
     "metadata": {},
     "output_type": "execute_result"
    }
   ],
   "source": [
    "d=[\"5\",\"2\",\"C\",\"D\",\"+\"]\n",
    "calPoints(d)"
   ]
  },
  {
   "cell_type": "code",
   "execution_count": 176,
   "metadata": {
    "collapsed": false
   },
   "outputs": [
    {
     "data": {
      "text/plain": [
       "-117"
      ]
     },
     "execution_count": 176,
     "metadata": {},
     "output_type": "execute_result"
    }
   ],
   "source": [
    "e=[\"-60\",\"D\",\"-36\",\"30\",\"13\",\"C\",\"C\",\"-33\",\"53\",\"79\"]\n",
    "calPoints(e)"
   ]
  },
  {
   "cell_type": "code",
   "execution_count": 177,
   "metadata": {
    "collapsed": false
   },
   "outputs": [
    {
     "data": {
      "text/plain": [
       "28"
      ]
     },
     "execution_count": 177,
     "metadata": {},
     "output_type": "execute_result"
    }
   ],
   "source": [
    "f=[\"4\",\"D\",\"D\",\"C\",\"D\"]\n",
    "calPoints(f)"
   ]
  },
  {
   "cell_type": "code",
   "execution_count": 179,
   "metadata": {
    "collapsed": false
   },
   "outputs": [],
   "source": [
    "#leet code answer\n",
    "def calPoints(self, ops):\n",
    "        stack = []\n",
    "        for op in ops:\n",
    "            if op == '+':\n",
    "                stack.append(stack[-1] + stack[-2])\n",
    "            elif op == 'C':\n",
    "                stack.pop()\n",
    "            elif op == 'D':\n",
    "                stack.append(2 * stack[-1])\n",
    "            else:\n",
    "                stack.append(int(op))\n",
    "\n",
    "        return sum(stack)"
   ]
  },
  {
   "cell_type": "code",
   "execution_count": null,
   "metadata": {
    "collapsed": true
   },
   "outputs": [],
   "source": []
  }
 ],
 "metadata": {
  "kernelspec": {
   "display_name": "Python 3",
   "language": "python",
   "name": "python3"
  },
  "language_info": {
   "codemirror_mode": {
    "name": "ipython",
    "version": 3
   },
   "file_extension": ".py",
   "mimetype": "text/x-python",
   "name": "python",
   "nbconvert_exporter": "python",
   "pygments_lexer": "ipython3",
   "version": "3.6.0"
  }
 },
 "nbformat": 4,
 "nbformat_minor": 2
}
