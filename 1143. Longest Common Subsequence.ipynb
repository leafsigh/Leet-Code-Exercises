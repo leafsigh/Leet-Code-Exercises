{
 "cells": [
  {
   "cell_type": "markdown",
   "metadata": {},
   "source": [
    "**[Problem Description](https://leetcode.com/problems/longest-common-subsequence/)**\n",
    "- use bottom-up DP solution"
   ]
  },
  {
   "cell_type": "code",
   "execution_count": 2,
   "metadata": {},
   "outputs": [],
   "source": [
    "def longestCommonSubsequence(self, text1: str, text2: str) -> int:\n",
    "\n",
    "    m = len(text1)\n",
    "    n = len(text2)\n",
    "\n",
    "    T = [[0 for i in range(n+1)] for j in range(m+1)]\n",
    "\n",
    "    for i in range(1,m+1):\n",
    "        for j in range(1,n+1):\n",
    "            if text1[i-1]==text2[j-1]:\n",
    "                T[i][j] = T[i-1][j-1]+1\n",
    "\n",
    "            else:\n",
    "                T[i][j] = max(T[i-1][j],T[i][j-1])\n",
    "    return T[-1][-1]"
   ]
  },
  {
   "cell_type": "code",
   "execution_count": null,
   "metadata": {},
   "outputs": [],
   "source": []
  }
 ],
 "metadata": {
  "kernelspec": {
   "display_name": "Python 3",
   "language": "python",
   "name": "python3"
  },
  "language_info": {
   "codemirror_mode": {
    "name": "ipython",
    "version": 3
   },
   "file_extension": ".py",
   "mimetype": "text/x-python",
   "name": "python",
   "nbconvert_exporter": "python",
   "pygments_lexer": "ipython3",
   "version": "3.7.6"
  }
 },
 "nbformat": 4,
 "nbformat_minor": 4
}
