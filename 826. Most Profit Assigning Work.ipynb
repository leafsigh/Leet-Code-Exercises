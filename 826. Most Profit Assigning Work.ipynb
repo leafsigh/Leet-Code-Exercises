{
 "cells": [
  {
   "cell_type": "markdown",
   "metadata": {},
   "source": [
    "We have jobs: difficulty[i] is the difficulty of the ith job, and profit[i] is the profit of the ith job. \n",
    "\n",
    "<br>Now we have some workers. worker[i] is the ability of the ith worker, which means that this worker can only complete a job with difficulty at most worker[i]. \n",
    "\n",
    "<br>Every worker can be assigned at most one job, but one job can be completed multiple times.\n",
    "\n",
    "<br>For example, if 3 people attempt the same job that pays $1$, then the total profit will be $3$.  If a worker cannot complete any job, his profit is $0$.\n",
    "\n",
    "<br>What is the most profit we can make?\n",
    "\n",
    "### Example 1:\n",
    "\n",
    "<br>Input: difficulty = [2,4,6,8,10], profit = [10,20,30,40,50], worker = [4,5,6,7]\n",
    "<br>Output: 100 \n",
    "<br>Explanation: Workers are assigned jobs of difficulty [4,4,6,6] and they get profit of [20,20,30,30] seperately.\n",
    "\n",
    "### Notes:\n",
    "\n",
    "1 <= difficulty.length = profit.length <= 10000\n",
    "<br>1 <= worker.length <= 10000\n",
    "<br>difficulty[i], profit[i], worker[i]  are in range [1, 10^5]\n"
   ]
  },
  {
   "cell_type": "code",
   "execution_count": 41,
   "metadata": {
    "collapsed": true
   },
   "outputs": [],
   "source": [
    "def maxProfitAssignment(difficulty, worker, profit):\n",
    "    dif_pro = sorted(zip(difficulty,profit))\n",
    "    work = sorted(worker)\n",
    "    total_profit = i = best = 0\n",
    "    for j in work:\n",
    "#         i=0\n",
    "#         best = 0   ** You don't need to set these two values to zero for each iteration, because this algo \n",
    "#         is sorted from the lowest difficulty to the largest\n",
    "\n",
    "        while i<len(dif_pro) and j>=dif_pro[i][0]:\n",
    "        # The order of these two conditions really matters. If 'j>=dif_pro[i][0]' is in the first, there will be an 'index out of list' problem\n",
    "            best = max(best, dif_pro[i][1])\n",
    "            i+=1\n",
    "        total_profit+=best\n",
    "    return total_profit"
   ]
  },
  {
   "cell_type": "code",
   "execution_count": 42,
   "metadata": {
    "collapsed": false
   },
   "outputs": [
    {
     "data": {
      "text/plain": [
       "100"
      ]
     },
     "execution_count": 42,
     "metadata": {},
     "output_type": "execute_result"
    }
   ],
   "source": [
    "difficulty = [2,4,6,8,10]\n",
    "profit = [10,20,30,40,50]\n",
    "worker = [4,5,6,7]\n",
    "maxProfitAssignment(difficulty, worker, profit)"
   ]
  },
  {
   "cell_type": "code",
   "execution_count": 43,
   "metadata": {
    "collapsed": false
   },
   "outputs": [
    {
     "data": {
      "text/plain": [
       "190"
      ]
     },
     "execution_count": 43,
     "metadata": {},
     "output_type": "execute_result"
    }
   ],
   "source": [
    "difficulty=[13,37,58]\n",
    "profit=[4,90,96]\n",
    "worker=[34,73,45]\n",
    "maxProfitAssignment(difficulty, worker, profit)"
   ]
  },
  {
   "cell_type": "code",
   "execution_count": 23,
   "metadata": {
    "collapsed": false
   },
   "outputs": [],
   "source": [
    "#low-efficient / not working if profit is not propotional to difficulty\n",
    "def maxProfitAssignment(difficulty, worker, profit):\n",
    "    \n",
    "    total_profit = 0\n",
    "    \n",
    "    dif_pro_dic={}\n",
    "    for i in range(len(difficulty)):\n",
    "        dif_pro_dic[difficulty[i]]=profit[i]\n",
    "    worker_dic = {}\n",
    "    for i in set(worker):\n",
    "        worker_dic[i]=worker.count(i)\n",
    "    for key in worker_dic.keys():\n",
    "        while key not in dif_pro_dic.keys() and key!=0:\n",
    "            key=key-1\n",
    "        if key==0:\n",
    "            continue\n",
    "        total_profit += worker_dic[key]*dif_pro_dic[key]\n",
    "    return total_profit"
   ]
  },
  {
   "cell_type": "code",
   "execution_count": 31,
   "metadata": {
    "collapsed": false
   },
   "outputs": [
    {
     "name": "stdout",
     "output_type": "stream",
     "text": [
      "(2, 10)\n",
      "(4, 20)\n",
      "(5, 15)\n",
      "(6, 30)\n",
      "(8, 40)\n",
      "(10, 50)\n"
     ]
    }
   ],
   "source": [
    "difficulty = [5,2,4,6,8,10]\n",
    "profit = [15,10,20,30,40,50] \n",
    "worker = [4,5,6,7,1]\n",
    "jobs = sorted(zip(difficulty,profit))\n",
    "for i in jobs:\n",
    "    print(i)"
   ]
  },
  {
   "cell_type": "code",
   "execution_count": null,
   "metadata": {
    "collapsed": false
   },
   "outputs": [],
   "source": []
  },
  {
   "cell_type": "code",
   "execution_count": null,
   "metadata": {
    "collapsed": false
   },
   "outputs": [],
   "source": []
  },
  {
   "cell_type": "code",
   "execution_count": null,
   "metadata": {
    "collapsed": true
   },
   "outputs": [],
   "source": []
  },
  {
   "cell_type": "code",
   "execution_count": null,
   "metadata": {
    "collapsed": false
   },
   "outputs": [],
   "source": []
  },
  {
   "cell_type": "code",
   "execution_count": null,
   "metadata": {
    "collapsed": false
   },
   "outputs": [],
   "source": []
  },
  {
   "cell_type": "code",
   "execution_count": null,
   "metadata": {
    "collapsed": false
   },
   "outputs": [],
   "source": []
  },
  {
   "cell_type": "code",
   "execution_count": null,
   "metadata": {
    "collapsed": true
   },
   "outputs": [],
   "source": []
  }
 ],
 "metadata": {
  "kernelspec": {
   "display_name": "Python 3",
   "language": "python",
   "name": "python3"
  },
  "language_info": {
   "codemirror_mode": {
    "name": "ipython",
    "version": 3
   },
   "file_extension": ".py",
   "mimetype": "text/x-python",
   "name": "python",
   "nbconvert_exporter": "python",
   "pygments_lexer": "ipython3",
   "version": "3.6.0"
  }
 },
 "nbformat": 4,
 "nbformat_minor": 2
}
