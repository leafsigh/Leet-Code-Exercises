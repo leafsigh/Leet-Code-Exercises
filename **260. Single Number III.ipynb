{
 "cells": [
  {
   "cell_type": "markdown",
   "metadata": {},
   "source": [
    "Given an array of numbers nums, in which exactly two elements appear only once and all the other elements appear exactly twice. Find the two elements that appear only once.\n",
    "\n",
    "### Example:\n",
    "Input:  [1,2,1,3,2,5]\n",
    "<br>Output: [3,5]\n",
    "\n",
    "#### <br>Note:\n",
    "<br>The order of the result is not important. So in the above example, [5, 3] is also correct.\n",
    "Your algorithm should run in linear runtime complexity. Could you implement it using only constant space complexity?\n"
   ]
  },
  {
   "cell_type": "code",
   "execution_count": 62,
   "metadata": {
    "collapsed": false
   },
   "outputs": [],
   "source": [
    "def singleNumber(nums):\n",
    "    xor = 0\n",
    "    a = 0\n",
    "    b = 0\n",
    "    for num in nums:\n",
    "        xor ^= num\n",
    "    mask = 1\n",
    "    while(xor&mask == 0):\n",
    "        mask = mask << 1\n",
    "    for num in nums:\n",
    "        if num&mask:\n",
    "            a ^= num\n",
    "        else:\n",
    "            b ^= num\n",
    "    return [a, b]"
   ]
  },
  {
   "cell_type": "code",
   "execution_count": 21,
   "metadata": {
    "collapsed": true
   },
   "outputs": [],
   "source": [
    "# Time limit exceeded\n",
    "def singleNumber(nums):\n",
    "    once = []\n",
    "    repeat = []\n",
    "    for i in nums:\n",
    "        print('i: ',i)\n",
    "        if i not in once:\n",
    "            once.append(i)\n",
    "            print('once: ',once)\n",
    "        else:\n",
    "            once.remove(i)\n",
    "            print('once: ',once)\n",
    "            repeat.append(i)\n",
    "            print('repeat: ',repeat)\n",
    "        if i in repeat and i in once:\n",
    "            once.remove(i)\n",
    "            print('once: ',once)\n",
    "    if not once:\n",
    "        return None\n",
    "    return once"
   ]
  },
  {
   "cell_type": "code",
   "execution_count": 18,
   "metadata": {
    "collapsed": false
   },
   "outputs": [
    {
     "name": "stdout",
     "output_type": "stream",
     "text": [
      "i:  1\n",
      "once:  [1]\n",
      "i:  2\n",
      "once:  [1, 2]\n",
      "i:  1\n",
      "once:  [2]\n",
      "repeat:  [1]\n",
      "i:  3\n",
      "once:  [2, 3]\n",
      "i:  2\n",
      "once:  [3]\n",
      "repeat:  [1, 2]\n",
      "i:  5\n",
      "once:  [3, 5]\n",
      "i:  1\n",
      "once:  [3, 5, 1]\n",
      "once:  [3, 5]\n",
      "i:  2\n",
      "once:  [3, 5, 2]\n",
      "once:  [3, 5]\n",
      "i:  2\n",
      "once:  [3, 5, 2]\n",
      "once:  [3, 5]\n",
      "i:  2\n",
      "once:  [3, 5, 2]\n",
      "once:  [3, 5]\n",
      "i:  3\n",
      "once:  [5]\n",
      "repeat:  [1, 2, 3]\n",
      "i:  7\n",
      "once:  [5, 7]\n"
     ]
    },
    {
     "data": {
      "text/plain": [
       "[5, 7]"
      ]
     },
     "execution_count": 18,
     "metadata": {},
     "output_type": "execute_result"
    }
   ],
   "source": [
    "nums1 = [1,2,1,3,2,5,1,2,2,2,3,7] \n",
    "singleNumber(nums1)"
   ]
  },
  {
   "cell_type": "code",
   "execution_count": 19,
   "metadata": {
    "collapsed": false
   },
   "outputs": [
    {
     "name": "stdout",
     "output_type": "stream",
     "text": [
      "i:  1\n",
      "once:  [1]\n"
     ]
    },
    {
     "data": {
      "text/plain": [
       "[1]"
      ]
     },
     "execution_count": 19,
     "metadata": {},
     "output_type": "execute_result"
    }
   ],
   "source": [
    "nums2=[1]\n",
    "singleNumber(nums2)"
   ]
  },
  {
   "cell_type": "code",
   "execution_count": 22,
   "metadata": {
    "collapsed": false
   },
   "outputs": [
    {
     "name": "stdout",
     "output_type": "stream",
     "text": [
      "i:  2\n",
      "once:  [2]\n",
      "i:  2\n",
      "once:  []\n",
      "repeat:  [2]\n",
      "i:  2\n",
      "once:  [2]\n",
      "once:  []\n"
     ]
    }
   ],
   "source": [
    "nums3=[2,2,2]\n",
    "singleNumber(nums3)"
   ]
  },
  {
   "cell_type": "code",
   "execution_count": 38,
   "metadata": {
    "collapsed": true
   },
   "outputs": [],
   "source": [
    "x,y=14,7"
   ]
  },
  {
   "cell_type": "code",
   "execution_count": 39,
   "metadata": {
    "collapsed": false
   },
   "outputs": [
    {
     "data": {
      "text/plain": [
       "9"
      ]
     },
     "execution_count": 39,
     "metadata": {},
     "output_type": "execute_result"
    }
   ],
   "source": [
    "x^y"
   ]
  },
  {
   "cell_type": "code",
   "execution_count": 40,
   "metadata": {
    "collapsed": true
   },
   "outputs": [],
   "source": [
    "mask = 1"
   ]
  },
  {
   "cell_type": "code",
   "execution_count": 56,
   "metadata": {
    "collapsed": false
   },
   "outputs": [
    {
     "data": {
      "text/plain": [
       "16"
      ]
     },
     "execution_count": 56,
     "metadata": {},
     "output_type": "execute_result"
    }
   ],
   "source": [
    "mask = mask<<1\n",
    "mask"
   ]
  },
  {
   "cell_type": "code",
   "execution_count": 61,
   "metadata": {
    "collapsed": false
   },
   "outputs": [
    {
     "data": {
      "text/plain": [
       "True"
      ]
     },
     "execution_count": 61,
     "metadata": {},
     "output_type": "execute_result"
    }
   ],
   "source": [
    "20&11 == 0"
   ]
  },
  {
   "cell_type": "code",
   "execution_count": null,
   "metadata": {
    "collapsed": true
   },
   "outputs": [],
   "source": []
  }
 ],
 "metadata": {
  "kernelspec": {
   "display_name": "Python 3",
   "language": "python",
   "name": "python3"
  },
  "language_info": {
   "codemirror_mode": {
    "name": "ipython",
    "version": 3
   },
   "file_extension": ".py",
   "mimetype": "text/x-python",
   "name": "python",
   "nbconvert_exporter": "python",
   "pygments_lexer": "ipython3",
   "version": "3.6.0"
  }
 },
 "nbformat": 4,
 "nbformat_minor": 2
}
