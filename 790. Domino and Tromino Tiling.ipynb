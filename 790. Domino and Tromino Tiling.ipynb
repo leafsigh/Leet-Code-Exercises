{
 "cells": [
  {
   "cell_type": "markdown",
   "metadata": {},
   "source": [
    "We have two types of tiles: a 2x1 domino shape, and an \"L\" tromino shape. These shapes may be rotated.\n",
    "\n",
    "XX  <- domino\n",
    "\n",
    "XX  <- \"L\" tromino\n",
    "X\n",
    "Given N, how many ways are there to tile a 2 x N board? Return your answer modulo 10^9 + 7.\n",
    "\n",
    "(In a tiling, every square must be covered by a tile. Two tilings are different if and only if there are two 4-directionally adjacent cells on the board such that exactly one of the tilings has both squares occupied by a tile.)\n",
    "\n",
    "Example:\n",
    "    \n",
    "Input: 3\n",
    "    \n",
    "Output: 5\n",
    "    \n",
    "Explanation: \n",
    "    \n",
    "The five different ways are listed below, different letters indicates different tiles:\n",
    "    \n",
    "XYZ  XXZ  XYY  XXY  XYY\n",
    "\n",
    "XYZ  YYZ  XZZ  XYY  XXY\n",
    "\n",
    "Note:\n",
    "\n",
    "N  will be in range [1, 1000]."
   ]
  },
  {
   "cell_type": "code",
   "execution_count": 2,
   "metadata": {
    "collapsed": true
   },
   "outputs": [],
   "source": [
    "def numTilings(N):\n",
    "    if N==1:\n",
    "        return 1\n",
    "    elif N==2:\n",
    "        return 2\n",
    "    elif N==3:\n",
    "        return 5\n",
    "    else:\n",
    "        while N>=4:\n",
    "            return 2*numTilings(N-2)+3*numTilings(N-3)"
   ]
  },
  {
   "cell_type": "code",
   "execution_count": 10,
   "metadata": {
    "collapsed": false
   },
   "outputs": [],
   "source": [
    "def numTilings(N):\n",
    "    l = [1,2,5]\n",
    "    if N<=3:\n",
    "        return l[N-1]\n",
    "    else:\n",
    "        for i in list(range(N-3)):\n",
    "            l.append(l[i]*3+l[i+1]*2)\n",
    "    return l[-1]"
   ]
  },
  {
   "cell_type": "code",
   "execution_count": 13,
   "metadata": {
    "collapsed": false
   },
   "outputs": [
    {
     "data": {
      "text/plain": [
       "17370481472762096600288662098274504712838747223802691946"
      ]
     },
     "execution_count": 13,
     "metadata": {},
     "output_type": "execute_result"
    }
   ],
   "source": [
    "numTilings(200)"
   ]
  },
  {
   "cell_type": "code",
   "execution_count": 14,
   "metadata": {
    "collapsed": false
   },
   "outputs": [
    {
     "data": {
      "text/plain": [
       "[0, 0, 0, 0]"
      ]
     },
     "execution_count": 14,
     "metadata": {},
     "output_type": "execute_result"
    }
   ],
   "source": [
    "[0]*4"
   ]
  },
  {
   "cell_type": "code",
   "execution_count": null,
   "metadata": {
    "collapsed": true
   },
   "outputs": [],
   "source": [
    "def numTilings(self, N):\n",
    "    \"\"\"\n",
    "    :type N: int\n",
    "    :rtype: int\n",
    "    \"\"\"\n",
    "    if N == 1:\n",
    "        return 1\n",
    "    dp = [0]*N\n",
    "    dp[0] = 1\n",
    "    dp[1] = 2\n",
    "\n",
    "    if N<3:\n",
    "        return dp[-1]\n",
    "    for i in range(2,N):\n",
    "        dp[i] += 1*dp[i-1]+1*dp[i-2]\n",
    "        for j in range(3,i+1):\n",
    "            dp[i]+=2*dp[i-j]\n",
    "        dp[i] += 2\n",
    "        dp[i] %= (1e9+7)\n",
    "        # dp[i] = 1*dp[i-1]+1*dp[i-2]+2\n",
    "    return int(dp[-1])"
   ]
  }
 ],
 "metadata": {
  "kernelspec": {
   "display_name": "Python 3",
   "language": "python",
   "name": "python3"
  },
  "language_info": {
   "codemirror_mode": {
    "name": "ipython",
    "version": 3
   },
   "file_extension": ".py",
   "mimetype": "text/x-python",
   "name": "python",
   "nbconvert_exporter": "python",
   "pygments_lexer": "ipython3",
   "version": "3.6.0"
  }
 },
 "nbformat": 4,
 "nbformat_minor": 2
}
