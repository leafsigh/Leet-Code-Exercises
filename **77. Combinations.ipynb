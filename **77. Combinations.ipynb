{
 "cells": [
  {
   "cell_type": "markdown",
   "metadata": {},
   "source": [
    "Given two integers n and k, return all possible combinations of k numbers out of 1 ... n.\n",
    "\n",
    "### Example:\n",
    "Input: n = 4, k = 2\n",
    "\n",
    "Output:\n",
    "\n",
    "[[2,4],\n",
    "  <br>[3,4],\n",
    "  <br>[2,3],\n",
    "  <br>[1,2],\n",
    "  <br>[1,3],\n",
    "  <br>[1,4],]"
   ]
  },
  {
   "cell_type": "code",
   "execution_count": 11,
   "metadata": {
    "collapsed": true
   },
   "outputs": [],
   "source": [
    "def combine(n,k):\n",
    "    stack = []\n",
    "    output = []\n",
    "    x = 1\n",
    "    while True:\n",
    "        l=len(stack)\n",
    "        if l==k:\n",
    "            output.append(stack[:])\n",
    "        if l==k or x>n-k+l+1:\n",
    "            if not stack:\n",
    "                return output\n",
    "            else:\n",
    "                x=stack.pop()+1\n",
    "        else:\n",
    "            stack.append(x)\n",
    "            x=x+1"
   ]
  },
  {
   "cell_type": "code",
   "execution_count": 2,
   "metadata": {
    "collapsed": false
   },
   "outputs": [
    {
     "name": "stdout",
     "output_type": "stream",
     "text": [
      "[0, 0]\n",
      "[1, 1]\n",
      "[2, 2]\n",
      "[3, 3]\n"
     ]
    }
   ],
   "source": [
    "for i in zip(list(range(4)),list(range(4))):\n",
    "    print(list(i))"
   ]
  },
  {
   "cell_type": "code",
   "execution_count": 12,
   "metadata": {
    "collapsed": false
   },
   "outputs": [
    {
     "data": {
      "text/plain": [
       "[[1, 2, 3],\n",
       " [1, 2, 4],\n",
       " [1, 2, 5],\n",
       " [1, 3, 4],\n",
       " [1, 3, 5],\n",
       " [1, 4, 5],\n",
       " [2, 3, 4],\n",
       " [2, 3, 5],\n",
       " [2, 4, 5],\n",
       " [3, 4, 5]]"
      ]
     },
     "execution_count": 12,
     "metadata": {},
     "output_type": "execute_result"
    }
   ],
   "source": [
    "combine(5,3)"
   ]
  },
  {
   "cell_type": "code",
   "execution_count": 4,
   "metadata": {
    "collapsed": false
   },
   "outputs": [
    {
     "data": {
      "text/plain": [
       "[1, 2]"
      ]
     },
     "execution_count": 4,
     "metadata": {},
     "output_type": "execute_result"
    }
   ],
   "source": [
    "a"
   ]
  },
  {
   "cell_type": "code",
   "execution_count": null,
   "metadata": {
    "collapsed": true
   },
   "outputs": [],
   "source": []
  }
 ],
 "metadata": {
  "kernelspec": {
   "display_name": "Python 3",
   "language": "python",
   "name": "python3"
  },
  "language_info": {
   "codemirror_mode": {
    "name": "ipython",
    "version": 3
   },
   "file_extension": ".py",
   "mimetype": "text/x-python",
   "name": "python",
   "nbconvert_exporter": "python",
   "pygments_lexer": "ipython3",
   "version": "3.6.0"
  }
 },
 "nbformat": 4,
 "nbformat_minor": 2
}
